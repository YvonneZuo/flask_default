{
 "cells": [
  {
   "cell_type": "markdown",
   "metadata": {
    "id": "C0TJsb36-jBa"
   },
   "source": [
    "### Reference\n",
    "##### Binary Classification with the UCI Credit-card Default Dataset\n",
    "##### Mitigating disparities in accuracy as measured by equalized-odds difference\n",
    "\n",
    "https://github.com/fairlearn/fairlearn/blob/master/notebooks/Binary%20Classification%20with%20the%20UCI%20Credit-card%20Default%20Dataset.ipynb"
   ]
  },
  {
   "cell_type": "code",
   "execution_count": 1,
   "metadata": {
    "colab": {
     "base_uri": "https://localhost:8080/"
    },
    "id": "5u2iaOer-jBe",
    "outputId": "657c77ea-f90b-4180-e571-4415234360b9"
   },
   "outputs": [
    {
     "name": "stdout",
     "output_type": "stream",
     "text": [
      "Requirement already satisfied: fairlearn==0.5.0 in /Library/Frameworks/Python.framework/Versions/3.10/lib/python3.10/site-packages (0.5.0)\n",
      "Requirement already satisfied: scipy>=1.4.1 in /Library/Frameworks/Python.framework/Versions/3.10/lib/python3.10/site-packages (from fairlearn==0.5.0) (1.11.4)\n",
      "Requirement already satisfied: pandas>=0.25.1 in /Library/Frameworks/Python.framework/Versions/3.10/lib/python3.10/site-packages (from fairlearn==0.5.0) (2.1.4)\n",
      "Requirement already satisfied: scikit-learn>=0.22.1 in /Library/Frameworks/Python.framework/Versions/3.10/lib/python3.10/site-packages (from fairlearn==0.5.0) (1.4.1.post1)\n",
      "Requirement already satisfied: numpy>=1.17.2 in /Library/Frameworks/Python.framework/Versions/3.10/lib/python3.10/site-packages (from fairlearn==0.5.0) (1.26.4)\n",
      "Requirement already satisfied: tzdata>=2022.1 in /Library/Frameworks/Python.framework/Versions/3.10/lib/python3.10/site-packages (from pandas>=0.25.1->fairlearn==0.5.0) (2024.1)\n",
      "Requirement already satisfied: python-dateutil>=2.8.2 in /Users/yvonnezuo/Library/Python/3.10/lib/python/site-packages (from pandas>=0.25.1->fairlearn==0.5.0) (2.8.2)\n",
      "Requirement already satisfied: pytz>=2020.1 in /Library/Frameworks/Python.framework/Versions/3.10/lib/python3.10/site-packages (from pandas>=0.25.1->fairlearn==0.5.0) (2024.1)\n",
      "Requirement already satisfied: threadpoolctl>=2.0.0 in /Library/Frameworks/Python.framework/Versions/3.10/lib/python3.10/site-packages (from scikit-learn>=0.22.1->fairlearn==0.5.0) (3.3.0)\n",
      "Requirement already satisfied: joblib>=1.2.0 in /Library/Frameworks/Python.framework/Versions/3.10/lib/python3.10/site-packages (from scikit-learn>=0.22.1->fairlearn==0.5.0) (1.3.2)\n",
      "Requirement already satisfied: six>=1.5 in /Users/yvonnezuo/Library/Python/3.10/lib/python/site-packages (from python-dateutil>=2.8.2->pandas>=0.25.1->fairlearn==0.5.0) (1.16.0)\n",
      "\n",
      "\u001b[1m[\u001b[0m\u001b[34;49mnotice\u001b[0m\u001b[1;39;49m]\u001b[0m\u001b[39;49m A new release of pip available: \u001b[0m\u001b[31;49m22.3.1\u001b[0m\u001b[39;49m -> \u001b[0m\u001b[32;49m24.0\u001b[0m\n",
      "\u001b[1m[\u001b[0m\u001b[34;49mnotice\u001b[0m\u001b[1;39;49m]\u001b[0m\u001b[39;49m To update, run: \u001b[0m\u001b[32;49mpip3 install --upgrade pip\u001b[0m\n",
      "Requirement already satisfied: matplotlib in /Library/Frameworks/Python.framework/Versions/3.10/lib/python3.10/site-packages (3.7.5)\n",
      "Requirement already satisfied: pyparsing>=2.3.1 in /Library/Frameworks/Python.framework/Versions/3.10/lib/python3.10/site-packages (from matplotlib) (3.1.1)\n",
      "Requirement already satisfied: python-dateutil>=2.7 in /Users/yvonnezuo/Library/Python/3.10/lib/python/site-packages (from matplotlib) (2.8.2)\n",
      "Requirement already satisfied: kiwisolver>=1.0.1 in /Library/Frameworks/Python.framework/Versions/3.10/lib/python3.10/site-packages (from matplotlib) (1.4.5)\n",
      "Requirement already satisfied: fonttools>=4.22.0 in /Library/Frameworks/Python.framework/Versions/3.10/lib/python3.10/site-packages (from matplotlib) (4.49.0)\n",
      "Requirement already satisfied: pillow>=6.2.0 in /Library/Frameworks/Python.framework/Versions/3.10/lib/python3.10/site-packages (from matplotlib) (10.2.0)\n",
      "Requirement already satisfied: cycler>=0.10 in /Library/Frameworks/Python.framework/Versions/3.10/lib/python3.10/site-packages (from matplotlib) (0.12.1)\n",
      "Requirement already satisfied: packaging>=20.0 in /Users/yvonnezuo/Library/Python/3.10/lib/python/site-packages (from matplotlib) (23.2)\n",
      "Requirement already satisfied: contourpy>=1.0.1 in /Library/Frameworks/Python.framework/Versions/3.10/lib/python3.10/site-packages (from matplotlib) (1.2.0)\n",
      "Requirement already satisfied: numpy<2,>=1.20 in /Library/Frameworks/Python.framework/Versions/3.10/lib/python3.10/site-packages (from matplotlib) (1.26.4)\n",
      "Requirement already satisfied: six>=1.5 in /Users/yvonnezuo/Library/Python/3.10/lib/python/site-packages (from python-dateutil>=2.7->matplotlib) (1.16.0)\n",
      "\n",
      "\u001b[1m[\u001b[0m\u001b[34;49mnotice\u001b[0m\u001b[1;39;49m]\u001b[0m\u001b[39;49m A new release of pip available: \u001b[0m\u001b[31;49m22.3.1\u001b[0m\u001b[39;49m -> \u001b[0m\u001b[32;49m24.0\u001b[0m\n",
      "\u001b[1m[\u001b[0m\u001b[34;49mnotice\u001b[0m\u001b[1;39;49m]\u001b[0m\u001b[39;49m To update, run: \u001b[0m\u001b[32;49mpip3 install --upgrade pip\u001b[0m\n",
      "Requirement already satisfied: lightgbm in /Library/Frameworks/Python.framework/Versions/3.10/lib/python3.10/site-packages (4.3.0)\n",
      "Requirement already satisfied: scipy in /Library/Frameworks/Python.framework/Versions/3.10/lib/python3.10/site-packages (from lightgbm) (1.11.4)\n",
      "Requirement already satisfied: numpy in /Library/Frameworks/Python.framework/Versions/3.10/lib/python3.10/site-packages (from lightgbm) (1.26.4)\n",
      "\n",
      "\u001b[1m[\u001b[0m\u001b[34;49mnotice\u001b[0m\u001b[1;39;49m]\u001b[0m\u001b[39;49m A new release of pip available: \u001b[0m\u001b[31;49m22.3.1\u001b[0m\u001b[39;49m -> \u001b[0m\u001b[32;49m24.0\u001b[0m\n",
      "\u001b[1m[\u001b[0m\u001b[34;49mnotice\u001b[0m\u001b[1;39;49m]\u001b[0m\u001b[39;49m To update, run: \u001b[0m\u001b[32;49mpip3 install --upgrade pip\u001b[0m\n"
     ]
    }
   ],
   "source": [
    "!pip install fairlearn==0.5.0\n",
    "!pip install matplotlib\n",
    "!pip install lightgbm\n",
    "# brew install libomp\n",
    "\n",
    "# General imports\n",
    "import numpy as np\n",
    "import pandas as pd\n",
    "import matplotlib.pyplot as plt\n",
    "%matplotlib inline\n",
    "\n",
    "# Data processing\n",
    "from sklearn.model_selection import train_test_split\n",
    "\n",
    "# Models\n",
    "import lightgbm as lgb\n",
    "from sklearn.calibration import CalibratedClassifierCV\n",
    "\n",
    "# Fairlearn algorithms and utils\n",
    "from fairlearn.postprocessing import ThresholdOptimizer\n",
    "from fairlearn.reductions import GridSearch, EqualizedOdds\n",
    "from fairlearn.widget import FairlearnDashboard\n",
    "\n",
    "# Metrics\n",
    "from fairlearn.metrics import (\n",
    "    MetricFrame,\n",
    "    selection_rate, demographic_parity_difference, demographic_parity_ratio,\n",
    "    equalized_odds_difference)\n",
    "from sklearn.metrics import balanced_accuracy_score, roc_auc_score"
   ]
  },
  {
   "cell_type": "code",
   "execution_count": 2,
   "metadata": {
    "colab": {
     "base_uri": "https://localhost:8080/",
     "height": 297
    },
    "id": "INMGRutE-jBf",
    "outputId": "f7e23e39-4cde-476b-cb99-9409a7acdd43"
   },
   "outputs": [
    {
     "name": "stderr",
     "output_type": "stream",
     "text": [
      "/var/folders/g5/d7c143k50b5_gbs7xfgl47900000gn/T/ipykernel_6715/95298064.py:8: FutureWarning: DataFrame.applymap has been deprecated. Use DataFrame.map instead.\n",
      "  non_num_features = non_num_features.applymap(lambda x: str(x)[-1])\n"
     ]
    },
    {
     "data": {
      "text/html": [
       "<div>\n",
       "<style scoped>\n",
       "    .dataframe tbody tr th:only-of-type {\n",
       "        vertical-align: middle;\n",
       "    }\n",
       "\n",
       "    .dataframe tbody tr th {\n",
       "        vertical-align: top;\n",
       "    }\n",
       "\n",
       "    .dataframe thead th {\n",
       "        text-align: right;\n",
       "    }\n",
       "</style>\n",
       "<table border=\"1\" class=\"dataframe\">\n",
       "  <thead>\n",
       "    <tr style=\"text-align: right;\">\n",
       "      <th></th>\n",
       "      <th>STATUS</th>\n",
       "      <th>DURATION</th>\n",
       "      <th>HISTORY</th>\n",
       "      <th>PURPOSE</th>\n",
       "      <th>CREDIT_AMOUNT</th>\n",
       "      <th>SAVINGS_ACCOUNT</th>\n",
       "      <th>PRESENT_EMPLOYMENT</th>\n",
       "      <th>INSTALLMENT_RATE</th>\n",
       "      <th>PERSONAL_STATUS_AND_SEX</th>\n",
       "      <th>OTHER_DEBTORS</th>\n",
       "      <th>...</th>\n",
       "      <th>PROPERTY</th>\n",
       "      <th>AGE</th>\n",
       "      <th>OTHER_INSTALLMENT_PLANS</th>\n",
       "      <th>HOUSING</th>\n",
       "      <th>NUMBER_OF_EXISTING_CREDITS</th>\n",
       "      <th>JOB</th>\n",
       "      <th>NUMBER_OF_PEOPLE_BEING_LIABLE</th>\n",
       "      <th>PHONE</th>\n",
       "      <th>FOREIGN_WORKER</th>\n",
       "      <th>PREDICTION</th>\n",
       "    </tr>\n",
       "  </thead>\n",
       "  <tbody>\n",
       "    <tr>\n",
       "      <th>0</th>\n",
       "      <td>1</td>\n",
       "      <td>6</td>\n",
       "      <td>4</td>\n",
       "      <td>3</td>\n",
       "      <td>1169</td>\n",
       "      <td>5</td>\n",
       "      <td>5</td>\n",
       "      <td>4</td>\n",
       "      <td>3</td>\n",
       "      <td>1</td>\n",
       "      <td>...</td>\n",
       "      <td>1</td>\n",
       "      <td>67</td>\n",
       "      <td>3</td>\n",
       "      <td>2</td>\n",
       "      <td>2</td>\n",
       "      <td>3</td>\n",
       "      <td>1</td>\n",
       "      <td>2</td>\n",
       "      <td>1</td>\n",
       "      <td>0</td>\n",
       "    </tr>\n",
       "    <tr>\n",
       "      <th>1</th>\n",
       "      <td>2</td>\n",
       "      <td>48</td>\n",
       "      <td>2</td>\n",
       "      <td>3</td>\n",
       "      <td>5951</td>\n",
       "      <td>1</td>\n",
       "      <td>3</td>\n",
       "      <td>2</td>\n",
       "      <td>2</td>\n",
       "      <td>1</td>\n",
       "      <td>...</td>\n",
       "      <td>1</td>\n",
       "      <td>22</td>\n",
       "      <td>3</td>\n",
       "      <td>2</td>\n",
       "      <td>1</td>\n",
       "      <td>3</td>\n",
       "      <td>1</td>\n",
       "      <td>1</td>\n",
       "      <td>1</td>\n",
       "      <td>1</td>\n",
       "    </tr>\n",
       "    <tr>\n",
       "      <th>2</th>\n",
       "      <td>4</td>\n",
       "      <td>12</td>\n",
       "      <td>4</td>\n",
       "      <td>6</td>\n",
       "      <td>2096</td>\n",
       "      <td>1</td>\n",
       "      <td>4</td>\n",
       "      <td>2</td>\n",
       "      <td>3</td>\n",
       "      <td>1</td>\n",
       "      <td>...</td>\n",
       "      <td>1</td>\n",
       "      <td>49</td>\n",
       "      <td>3</td>\n",
       "      <td>2</td>\n",
       "      <td>1</td>\n",
       "      <td>2</td>\n",
       "      <td>2</td>\n",
       "      <td>1</td>\n",
       "      <td>1</td>\n",
       "      <td>0</td>\n",
       "    </tr>\n",
       "    <tr>\n",
       "      <th>3</th>\n",
       "      <td>1</td>\n",
       "      <td>42</td>\n",
       "      <td>2</td>\n",
       "      <td>2</td>\n",
       "      <td>7882</td>\n",
       "      <td>1</td>\n",
       "      <td>4</td>\n",
       "      <td>2</td>\n",
       "      <td>3</td>\n",
       "      <td>3</td>\n",
       "      <td>...</td>\n",
       "      <td>2</td>\n",
       "      <td>45</td>\n",
       "      <td>3</td>\n",
       "      <td>3</td>\n",
       "      <td>1</td>\n",
       "      <td>3</td>\n",
       "      <td>2</td>\n",
       "      <td>1</td>\n",
       "      <td>1</td>\n",
       "      <td>0</td>\n",
       "    </tr>\n",
       "    <tr>\n",
       "      <th>4</th>\n",
       "      <td>1</td>\n",
       "      <td>24</td>\n",
       "      <td>3</td>\n",
       "      <td>0</td>\n",
       "      <td>4870</td>\n",
       "      <td>1</td>\n",
       "      <td>3</td>\n",
       "      <td>3</td>\n",
       "      <td>3</td>\n",
       "      <td>1</td>\n",
       "      <td>...</td>\n",
       "      <td>4</td>\n",
       "      <td>53</td>\n",
       "      <td>3</td>\n",
       "      <td>3</td>\n",
       "      <td>2</td>\n",
       "      <td>3</td>\n",
       "      <td>2</td>\n",
       "      <td>1</td>\n",
       "      <td>1</td>\n",
       "      <td>1</td>\n",
       "    </tr>\n",
       "  </tbody>\n",
       "</table>\n",
       "<p>5 rows × 21 columns</p>\n",
       "</div>"
      ],
      "text/plain": [
       "  STATUS  DURATION HISTORY PURPOSE  CREDIT_AMOUNT SAVINGS_ACCOUNT  \\\n",
       "0      1         6       4       3           1169               5   \n",
       "1      2        48       2       3           5951               1   \n",
       "2      4        12       4       6           2096               1   \n",
       "3      1        42       2       2           7882               1   \n",
       "4      1        24       3       0           4870               1   \n",
       "\n",
       "  PRESENT_EMPLOYMENT  INSTALLMENT_RATE PERSONAL_STATUS_AND_SEX OTHER_DEBTORS  \\\n",
       "0                  5                 4                       3             1   \n",
       "1                  3                 2                       2             1   \n",
       "2                  4                 2                       3             1   \n",
       "3                  4                 2                       3             3   \n",
       "4                  3                 3                       3             1   \n",
       "\n",
       "   ...  PROPERTY AGE  OTHER_INSTALLMENT_PLANS HOUSING  \\\n",
       "0  ...         1  67                        3       2   \n",
       "1  ...         1  22                        3       2   \n",
       "2  ...         1  49                        3       2   \n",
       "3  ...         2  45                        3       3   \n",
       "4  ...         4  53                        3       3   \n",
       "\n",
       "  NUMBER_OF_EXISTING_CREDITS  JOB NUMBER_OF_PEOPLE_BEING_LIABLE  PHONE  \\\n",
       "0                          2    3                             1      2   \n",
       "1                          1    3                             1      1   \n",
       "2                          1    2                             2      1   \n",
       "3                          1    3                             2      1   \n",
       "4                          2    3                             2      1   \n",
       "\n",
       "  FOREIGN_WORKER PREDICTION  \n",
       "0              1          0  \n",
       "1              1          1  \n",
       "2              1          0  \n",
       "3              1          0  \n",
       "4              1          1  \n",
       "\n",
       "[5 rows x 21 columns]"
      ]
     },
     "execution_count": 2,
     "metadata": {},
     "output_type": "execute_result"
    }
   ],
   "source": [
    "# Load and preprocess the data\n",
    "df = pd.read_csv(\"credit_data.txt\", delimiter=\" \")\n",
    "\n",
    "prediction_map={1:0, 2:1}\n",
    "df['PREDICTION'] = df['PREDICTION'].map(prediction_map)\n",
    "\n",
    "non_num_features = df.select_dtypes(exclude=['number'])\n",
    "non_num_features = non_num_features.applymap(lambda x: str(x)[-1])\n",
    "for col in non_num_features:\n",
    "    df[col] = non_num_features[col].astype('category')\n",
    "df.head()"
   ]
  },
  {
   "cell_type": "code",
   "execution_count": 3,
   "metadata": {
    "colab": {
     "base_uri": "https://localhost:8080/"
    },
    "id": "UH6AIGCR-jBi",
    "outputId": "dfd29740-1906-4022-f756-0d7f1a71572a"
   },
   "outputs": [
    {
     "data": {
      "text/plain": [
       "0    skilled employee / official\n",
       "1    skilled employee / official\n",
       "2           unskilled - resident\n",
       "3    skilled employee / official\n",
       "4    skilled employee / official\n",
       "Name: JOB, dtype: object"
      ]
     },
     "execution_count": 3,
     "metadata": {},
     "output_type": "execute_result"
    }
   ],
   "source": [
    "# To show how to extract and adjust a feature, let's consider \"OTHER_INSTALLMENT_PLANS\" feature\n",
    "df['JOB'] = df['JOB'].astype('int32')\n",
    "A = df['JOB']\n",
    "A_str = A.map({ 1:\"unemployed/ unskilled  - non-resident\", 2:\"unskilled - resident\", 3:\"skilled employee / official\", 4:\"management/ self-employed/ highly qualified employee/ officer\"})\n",
    "# Extract the target feature, which is \"PREDICTION\" that shows whether a customer is good or bad\n",
    "Y = df[\"PREDICTION\"]\n",
    "A_str.head()\n",
    "# Y.head()"
   ]
  },
  {
   "cell_type": "code",
   "execution_count": 4,
   "metadata": {
    "colab": {
     "base_uri": "https://localhost:8080/",
     "height": 297
    },
    "id": "bF8WyRjZ-jBk",
    "outputId": "6b7573fc-f1c7-4fa9-afc8-9c50916fa3e4"
   },
   "outputs": [
    {
     "data": {
      "text/html": [
       "<div>\n",
       "<style scoped>\n",
       "    .dataframe tbody tr th:only-of-type {\n",
       "        vertical-align: middle;\n",
       "    }\n",
       "\n",
       "    .dataframe tbody tr th {\n",
       "        vertical-align: top;\n",
       "    }\n",
       "\n",
       "    .dataframe thead th {\n",
       "        text-align: right;\n",
       "    }\n",
       "</style>\n",
       "<table border=\"1\" class=\"dataframe\">\n",
       "  <thead>\n",
       "    <tr style=\"text-align: right;\">\n",
       "      <th></th>\n",
       "      <th>STATUS</th>\n",
       "      <th>DURATION</th>\n",
       "      <th>HISTORY</th>\n",
       "      <th>PURPOSE</th>\n",
       "      <th>CREDIT_AMOUNT</th>\n",
       "      <th>SAVINGS_ACCOUNT</th>\n",
       "      <th>PRESENT_EMPLOYMENT</th>\n",
       "      <th>INSTALLMENT_RATE</th>\n",
       "      <th>PERSONAL_STATUS_AND_SEX</th>\n",
       "      <th>OTHER_DEBTORS</th>\n",
       "      <th>...</th>\n",
       "      <th>PROPERTY</th>\n",
       "      <th>AGE</th>\n",
       "      <th>OTHER_INSTALLMENT_PLANS</th>\n",
       "      <th>HOUSING</th>\n",
       "      <th>NUMBER_OF_EXISTING_CREDITS</th>\n",
       "      <th>JOB</th>\n",
       "      <th>NUMBER_OF_PEOPLE_BEING_LIABLE</th>\n",
       "      <th>PHONE</th>\n",
       "      <th>FOREIGN_WORKER</th>\n",
       "      <th>PREDICTION</th>\n",
       "    </tr>\n",
       "  </thead>\n",
       "  <tbody>\n",
       "    <tr>\n",
       "      <th>0</th>\n",
       "      <td>1</td>\n",
       "      <td>6</td>\n",
       "      <td>4</td>\n",
       "      <td>3</td>\n",
       "      <td>1169</td>\n",
       "      <td>5</td>\n",
       "      <td>5</td>\n",
       "      <td>-0.450602</td>\n",
       "      <td>3</td>\n",
       "      <td>1</td>\n",
       "      <td>...</td>\n",
       "      <td>1</td>\n",
       "      <td>67</td>\n",
       "      <td>3</td>\n",
       "      <td>2</td>\n",
       "      <td>2</td>\n",
       "      <td>3</td>\n",
       "      <td>1</td>\n",
       "      <td>2</td>\n",
       "      <td>1</td>\n",
       "      <td>0</td>\n",
       "    </tr>\n",
       "    <tr>\n",
       "      <th>1</th>\n",
       "      <td>2</td>\n",
       "      <td>48</td>\n",
       "      <td>2</td>\n",
       "      <td>3</td>\n",
       "      <td>5951</td>\n",
       "      <td>1</td>\n",
       "      <td>3</td>\n",
       "      <td>0.123726</td>\n",
       "      <td>2</td>\n",
       "      <td>1</td>\n",
       "      <td>...</td>\n",
       "      <td>1</td>\n",
       "      <td>22</td>\n",
       "      <td>3</td>\n",
       "      <td>2</td>\n",
       "      <td>1</td>\n",
       "      <td>3</td>\n",
       "      <td>1</td>\n",
       "      <td>1</td>\n",
       "      <td>1</td>\n",
       "      <td>1</td>\n",
       "    </tr>\n",
       "    <tr>\n",
       "      <th>2</th>\n",
       "      <td>4</td>\n",
       "      <td>12</td>\n",
       "      <td>4</td>\n",
       "      <td>6</td>\n",
       "      <td>2096</td>\n",
       "      <td>1</td>\n",
       "      <td>4</td>\n",
       "      <td>-0.157364</td>\n",
       "      <td>3</td>\n",
       "      <td>1</td>\n",
       "      <td>...</td>\n",
       "      <td>1</td>\n",
       "      <td>49</td>\n",
       "      <td>3</td>\n",
       "      <td>2</td>\n",
       "      <td>1</td>\n",
       "      <td>2</td>\n",
       "      <td>2</td>\n",
       "      <td>1</td>\n",
       "      <td>1</td>\n",
       "      <td>0</td>\n",
       "    </tr>\n",
       "    <tr>\n",
       "      <th>3</th>\n",
       "      <td>1</td>\n",
       "      <td>42</td>\n",
       "      <td>2</td>\n",
       "      <td>2</td>\n",
       "      <td>7882</td>\n",
       "      <td>1</td>\n",
       "      <td>4</td>\n",
       "      <td>0.232007</td>\n",
       "      <td>3</td>\n",
       "      <td>3</td>\n",
       "      <td>...</td>\n",
       "      <td>2</td>\n",
       "      <td>45</td>\n",
       "      <td>3</td>\n",
       "      <td>3</td>\n",
       "      <td>1</td>\n",
       "      <td>3</td>\n",
       "      <td>2</td>\n",
       "      <td>1</td>\n",
       "      <td>1</td>\n",
       "      <td>0</td>\n",
       "    </tr>\n",
       "    <tr>\n",
       "      <th>4</th>\n",
       "      <td>1</td>\n",
       "      <td>24</td>\n",
       "      <td>3</td>\n",
       "      <td>0</td>\n",
       "      <td>4870</td>\n",
       "      <td>1</td>\n",
       "      <td>3</td>\n",
       "      <td>1.842735</td>\n",
       "      <td>3</td>\n",
       "      <td>1</td>\n",
       "      <td>...</td>\n",
       "      <td>4</td>\n",
       "      <td>53</td>\n",
       "      <td>3</td>\n",
       "      <td>3</td>\n",
       "      <td>2</td>\n",
       "      <td>3</td>\n",
       "      <td>2</td>\n",
       "      <td>1</td>\n",
       "      <td>1</td>\n",
       "      <td>1</td>\n",
       "    </tr>\n",
       "  </tbody>\n",
       "</table>\n",
       "<p>5 rows × 21 columns</p>\n",
       "</div>"
      ],
      "text/plain": [
       "  STATUS  DURATION HISTORY PURPOSE  CREDIT_AMOUNT SAVINGS_ACCOUNT  \\\n",
       "0      1         6       4       3           1169               5   \n",
       "1      2        48       2       3           5951               1   \n",
       "2      4        12       4       6           2096               1   \n",
       "3      1        42       2       2           7882               1   \n",
       "4      1        24       3       0           4870               1   \n",
       "\n",
       "  PRESENT_EMPLOYMENT  INSTALLMENT_RATE PERSONAL_STATUS_AND_SEX OTHER_DEBTORS  \\\n",
       "0                  5         -0.450602                       3             1   \n",
       "1                  3          0.123726                       2             1   \n",
       "2                  4         -0.157364                       3             1   \n",
       "3                  4          0.232007                       3             3   \n",
       "4                  3          1.842735                       3             1   \n",
       "\n",
       "   ...  PROPERTY AGE  OTHER_INSTALLMENT_PLANS HOUSING  \\\n",
       "0  ...         1  67                        3       2   \n",
       "1  ...         1  22                        3       2   \n",
       "2  ...         1  49                        3       2   \n",
       "3  ...         2  45                        3       3   \n",
       "4  ...         4  53                        3       3   \n",
       "\n",
       "  NUMBER_OF_EXISTING_CREDITS  JOB  NUMBER_OF_PEOPLE_BEING_LIABLE  PHONE  \\\n",
       "0                          2    3                              1      2   \n",
       "1                          1    3                              1      1   \n",
       "2                          1    2                              2      1   \n",
       "3                          1    3                              2      1   \n",
       "4                          2    3                              2      1   \n",
       "\n",
       "  FOREIGN_WORKER PREDICTION  \n",
       "0              1          0  \n",
       "1              1          1  \n",
       "2              1          0  \n",
       "3              1          0  \n",
       "4              1          1  \n",
       "\n",
       "[5 rows x 21 columns]"
      ]
     },
     "execution_count": 4,
     "metadata": {},
     "output_type": "execute_result"
    }
   ],
   "source": [
    "dist_scale = 0.7\n",
    "np.random.seed(5000)\n",
    "# Make 'INSTALLMENT_RATE' informative of the target\n",
    "df['INSTALLMENT_RATE'] = Y + np.random.normal(scale=dist_scale, size=df.shape[0])\n",
    "# But then make it uninformative for the customers who are unemployed or unskilled.\n",
    "df.loc[A==1, 'INSTALLMENT_RATE'] = np.random.normal(scale=dist_scale, size=df[A==1].shape[0])\n",
    "df.loc[A==2, 'INSTALLMENT_RATE'] = np.random.normal(scale=dist_scale, size=df[A==2].shape[0])\n",
    "df.head()"
   ]
  },
  {
   "cell_type": "code",
   "execution_count": 5,
   "metadata": {
    "colab": {
     "base_uri": "https://localhost:8080/",
     "height": 572
    },
    "id": "a73p-K7_-jBn",
    "outputId": "1a4044e0-24d6-4ba0-a06e-1def9759b6c1"
   },
   "outputs": [
    {
     "data": {
      "image/png": "[encoded data removed]",
      "text/plain": [
       "<Figure size 2000x1000 with 4 Axes>"
      ]
     },
     "metadata": {},
     "output_type": "display_data"
    }
   ],
   "source": [
    "fig, (ax1, ax2, ax3, ax4) = plt.subplots(1, 4, figsize=(20, 10), sharey=True)\n",
    "# Plot distribution of CREDIT_AMOUNT for skilled employee\n",
    "df['INSTALLMENT_RATE'][(A==3) & (Y==0)].plot(kind='kde', label=\"Good Customer\", ax=ax1,\n",
    "                                           title=\"INSTALLMENT_RATE for skilled employee\")\n",
    "df['INSTALLMENT_RATE'][(A==3) & (Y==1)].plot(kind='kde', label=\"Bad Customer\", ax=ax1)\n",
    "# Plot distribution of CREDIT_AMOUNT for management/ self-employed\n",
    "df['INSTALLMENT_RATE'][(A==4) & (Y==0)].plot(kind='kde', label=\"Good Customer\", ax=ax2,\n",
    "                                           title=\"INSTALLMENT_RATE for management\")\n",
    "df['INSTALLMENT_RATE'][(A==4) & (Y==1)].plot(kind='kde', label=\"Bad Customer\", ax=ax2)\n",
    "# Plot distribution of LIMIT_BAL for unemployed/ unskilled  - non-resident\n",
    "df['INSTALLMENT_RATE'][(A==1) & (Y==0)].plot(kind='kde', label=\"Good Customer\", ax=ax3,\n",
    "                                           legend=True, title=\"INSTALLMENT_RATE for unemployed-non-resident\")\n",
    "df['INSTALLMENT_RATE'][(A==1) & (Y==1)].plot(kind='kde', label=\"Bad Customer\", ax=ax3,\n",
    "                                           legend=True).legend(bbox_to_anchor=(1.6, 1))\n",
    "# Plot distribution of unskilled - resident\n",
    "df['INSTALLMENT_RATE'][(A==2) & (Y==0)].plot(kind='kde', label=\"Good Customer\", ax=ax4,\n",
    "                                           legend=True, title=\"INSTALLMENT_RATE for unskilled-resident\")\n",
    "df['INSTALLMENT_RATE'][(A==2) & (Y==1)].plot(kind='kde', label=\"Bad Customer\", ax=ax4,\n",
    "                                           legend=True).legend(bbox_to_anchor=(1.6, 1))\n",
    "plt.show()"
   ]
  },
  {
   "cell_type": "markdown",
   "metadata": {
    "id": "lQzWatlT-jBn"
   },
   "source": [
    "Train and test a machine learning model with LightGBM. Then plot the trained models' feature imporantce chart with LGB's `plot_importance` function."
   ]
  },
  {
   "cell_type": "code",
   "execution_count": 6,
   "metadata": {
    "colab": {
     "base_uri": "https://localhost:8080/",
     "height": 295
    },
    "id": "Ar9aPH7W-jBs",
    "outputId": "59f18491-2d47-4cb8-9b8b-b570be473d78"
   },
   "outputs": [
    {
     "name": "stdout",
     "output_type": "stream",
     "text": [
      "[LightGBM] [Info] Number of positive: 210, number of negative: 490\n",
      "[LightGBM] [Info] Auto-choosing row-wise multi-threading, the overhead of testing was 0.000769 seconds.\n",
      "You can set `force_row_wise=true` to remove the overhead.\n",
      "And if memory is not enough, you can set `force_col_wise=true`.\n",
      "[LightGBM] [Info] Total Bins 613\n",
      "[LightGBM] [Info] Number of data points in the train set: 700, number of used features: 19\n",
      "[LightGBM] [Info] [binary:BoostFromScore]: pavg=0.300000 -> initscore=-0.847298\n",
      "[LightGBM] [Info] Start training from score -0.847298\n",
      "[LightGBM] [Warning] No further splits with positive gain, best gain: -inf\n",
      "[LightGBM] [Warning] No further splits with positive gain, best gain: -inf\n",
      "[LightGBM] [Warning] No further splits with positive gain, best gain: -inf\n",
      "[LightGBM] [Warning] No further splits with positive gain, best gain: -inf\n",
      "[LightGBM] [Warning] No further splits with positive gain, best gain: -inf\n",
      "[LightGBM] [Warning] No further splits with positive gain, best gain: -inf\n",
      "[LightGBM] [Warning] No further splits with positive gain, best gain: -inf\n",
      "[LightGBM] [Warning] No further splits with positive gain, best gain: -inf\n",
      "[LightGBM] [Warning] No further splits with positive gain, best gain: -inf\n",
      "[LightGBM] [Warning] No further splits with positive gain, best gain: -inf\n",
      "[LightGBM] [Warning] No further splits with positive gain, best gain: -inf\n",
      "[LightGBM] [Warning] No further splits with positive gain, best gain: -inf\n",
      "[LightGBM] [Warning] No further splits with positive gain, best gain: -inf\n",
      "[LightGBM] [Warning] No further splits with positive gain, best gain: -inf\n",
      "[LightGBM] [Warning] No further splits with positive gain, best gain: -inf\n",
      "[LightGBM] [Warning] No further splits with positive gain, best gain: -inf\n",
      "[LightGBM] [Warning] No further splits with positive gain, best gain: -inf\n",
      "[LightGBM] [Warning] No further splits with positive gain, best gain: -inf\n",
      "[LightGBM] [Warning] No further splits with positive gain, best gain: -inf\n",
      "[LightGBM] [Warning] No further splits with positive gain, best gain: -inf\n",
      "[LightGBM] [Warning] No further splits with positive gain, best gain: -inf\n",
      "[LightGBM] [Warning] No further splits with positive gain, best gain: -inf\n",
      "[LightGBM] [Warning] No further splits with positive gain, best gain: -inf\n",
      "[LightGBM] [Warning] No further splits with positive gain, best gain: -inf\n",
      "[LightGBM] [Warning] No further splits with positive gain, best gain: -inf\n",
      "[LightGBM] [Warning] No further splits with positive gain, best gain: -inf\n",
      "[LightGBM] [Warning] No further splits with positive gain, best gain: -inf\n",
      "[LightGBM] [Warning] No further splits with positive gain, best gain: -inf\n",
      "[LightGBM] [Warning] No further splits with positive gain, best gain: -inf\n",
      "[LightGBM] [Warning] No further splits with positive gain, best gain: -inf\n",
      "[LightGBM] [Warning] No further splits with positive gain, best gain: -inf\n",
      "[LightGBM] [Warning] No further splits with positive gain, best gain: -inf\n",
      "[LightGBM] [Warning] No further splits with positive gain, best gain: -inf\n",
      "[LightGBM] [Warning] No further splits with positive gain, best gain: -inf\n",
      "[LightGBM] [Warning] No further splits with positive gain, best gain: -inf\n",
      "[LightGBM] [Warning] No further splits with positive gain, best gain: -inf\n",
      "[LightGBM] [Warning] No further splits with positive gain, best gain: -inf\n",
      "[LightGBM] [Warning] No further splits with positive gain, best gain: -inf\n",
      "[LightGBM] [Warning] No further splits with positive gain, best gain: -inf\n",
      "[LightGBM] [Warning] No further splits with positive gain, best gain: -inf\n"
     ]
    },
    {
     "data": {
      "image/png": "[encoded data removed]",
      "text/plain": [
       "<Figure size 640x480 with 1 Axes>"
      ]
     },
     "metadata": {},
     "output_type": "display_data"
    }
   ],
   "source": [
    "# Train-test split\n",
    "df_train, df_test, Y_train, Y_test, A_train, A_test, A_str_train, A_str_test = train_test_split(\n",
    "    df.drop(columns=['JOB', 'PREDICTION']),\n",
    "    Y,\n",
    "    A,\n",
    "    A_str,\n",
    "    test_size = 0.3,\n",
    "    random_state=5000,\n",
    "    stratify=Y)\n",
    "\n",
    "lgb_params = {\n",
    "    'objective' : 'binary',\n",
    "    'metric' : 'auc',\n",
    "    'learning_rate': 0.03,\n",
    "    'num_leaves' : 10,\n",
    "    'max_depth' : 3\n",
    "}\n",
    "\n",
    "model = lgb.LGBMClassifier(**lgb_params)\n",
    "\n",
    "model.fit(df_train, Y_train)\n",
    "\n",
    "# Scores on test set\n",
    "test_scores = model.predict_proba(df_test)[:, 1]\n",
    "\n",
    "# Train AUC\n",
    "roc_auc_score(Y_train, model.predict_proba(df_train)[:, 1])\n",
    "\n",
    "# Predictions (0 or 1) on test set\n",
    "test_preds = (test_scores >= np.mean(Y_train)) * 1\n",
    "\n",
    "# LightGBM feature importance\n",
    "lgb.plot_importance(model, height=0.6, title=\"Features importance (LightGBM)\", importance_type=\"gain\", max_num_features=21)\n",
    "plt.show()"
   ]
  },
  {
   "cell_type": "code",
   "execution_count": 7,
   "metadata": {
    "colab": {
     "base_uri": "https://localhost:8080/",
     "height": 359
    },
    "id": "ptpIlDmE-jBu",
    "outputId": "d69c54c3-b1c2-4538-f1d8-efb53b784cbf"
   },
   "outputs": [
    {
     "name": "stdout",
     "output_type": "stream",
     "text": [
      "Error calculating Demographic parity difference: max() got an unexpected keyword argument 'level'\n",
      "Error calculating Balanced error rate difference: max() got an unexpected keyword argument 'level'\n",
      "Error calculating Equalized odds difference: max() got an unexpected keyword argument 'level'\n",
      "Error calculating AUC difference: max() got an unexpected keyword argument 'level'\n"
     ]
    },
    {
     "data": {
      "text/html": [
       "<div>\n",
       "<style scoped>\n",
       "    .dataframe tbody tr th:only-of-type {\n",
       "        vertical-align: middle;\n",
       "    }\n",
       "\n",
       "    .dataframe tbody tr th {\n",
       "        vertical-align: top;\n",
       "    }\n",
       "\n",
       "    .dataframe thead th {\n",
       "        text-align: right;\n",
       "    }\n",
       "</style>\n",
       "<table border=\"1\" class=\"dataframe\">\n",
       "  <thead>\n",
       "    <tr style=\"text-align: right;\">\n",
       "      <th></th>\n",
       "      <th>Unmitigated</th>\n",
       "    </tr>\n",
       "  </thead>\n",
       "  <tbody>\n",
       "    <tr>\n",
       "      <th>Overall selection rate</th>\n",
       "      <td>0.413333</td>\n",
       "    </tr>\n",
       "    <tr>\n",
       "      <th>Demographic parity difference</th>\n",
       "      <td>None</td>\n",
       "    </tr>\n",
       "    <tr>\n",
       "      <th>Demographic parity ratio</th>\n",
       "      <td>0.224138</td>\n",
       "    </tr>\n",
       "    <tr>\n",
       "      <th>-----</th>\n",
       "      <td></td>\n",
       "    </tr>\n",
       "    <tr>\n",
       "      <th>Overall balanced error rate</th>\n",
       "      <td>0.231746</td>\n",
       "    </tr>\n",
       "    <tr>\n",
       "      <th>Balanced error rate difference</th>\n",
       "      <td>None</td>\n",
       "    </tr>\n",
       "    <tr>\n",
       "      <th>Equalized odds difference</th>\n",
       "      <td>None</td>\n",
       "    </tr>\n",
       "    <tr>\n",
       "      <th>------</th>\n",
       "      <td></td>\n",
       "    </tr>\n",
       "    <tr>\n",
       "      <th>Overall AUC</th>\n",
       "      <td>0.851323</td>\n",
       "    </tr>\n",
       "    <tr>\n",
       "      <th>AUC difference</th>\n",
       "      <td>None</td>\n",
       "    </tr>\n",
       "  </tbody>\n",
       "</table>\n",
       "</div>"
      ],
      "text/plain": [
       "                               Unmitigated\n",
       "Overall selection rate            0.413333\n",
       "Demographic parity difference         None\n",
       "Demographic parity ratio          0.224138\n",
       "-----                                     \n",
       "Overall balanced error rate       0.231746\n",
       "Balanced error rate difference        None\n",
       "Equalized odds difference             None\n",
       "------                                    \n",
       "Overall AUC                       0.851323\n",
       "AUC difference                        None"
      ]
     },
     "execution_count": 7,
     "metadata": {},
     "output_type": "execute_result"
    }
   ],
   "source": [
    "# Helper functions\n",
    "def get_metrics_df(models_dict, y_true, group):\n",
    "    metrics_dict = {\n",
    "        \"Overall selection rate\": (\n",
    "            lambda x: selection_rate(y_true, x), True),\n",
    "        \"Demographic parity difference\": (\n",
    "            lambda x: demographic_parity_difference(y_true, x, sensitive_features=group), True),\n",
    "        \"Demographic parity ratio\": (\n",
    "            lambda x: demographic_parity_ratio(y_true, x, sensitive_features=group), True),\n",
    "        \"-----\": (lambda x: \"\", True),\n",
    "        \"Overall balanced error rate\": (\n",
    "            lambda x: 1-balanced_accuracy_score(y_true, x), True),\n",
    "        \"Balanced error rate difference\": (\n",
    "            lambda x: MetricFrame(balanced_accuracy_score, y_true, x, sensitive_features=group).difference(method='between_groups'), True),\n",
    "        \"Equalized odds difference\": (\n",
    "            lambda x: equalized_odds_difference(y_true, x, sensitive_features=group), True),\n",
    "        \"------\": (lambda x: \"\", True),\n",
    "        \"Overall AUC\": (\n",
    "            lambda x: roc_auc_score(y_true, x), False),\n",
    "        \"AUC difference\": (\n",
    "            lambda x: MetricFrame(roc_auc_score, y_true, x, sensitive_features=group).difference(method='between_groups'), False),\n",
    "    }\n",
    "    df_dict = {}\n",
    "    for metric_name, (metric_func, use_preds) in metrics_dict.items():\n",
    "        try:\n",
    "            if use_preds:\n",
    "                df_dict[metric_name] = [metric_func(preds) for model_name, (preds, scores) in models_dict.items()]\n",
    "            else:\n",
    "                df_dict[metric_name] = [metric_func(scores) for model_name, (preds, scores) in models_dict.items()]\n",
    "        except Exception as e:\n",
    "            print(f\"Error calculating {metric_name}: {e}\")\n",
    "            df_dict[metric_name] = [None for _ in models_dict.keys()]\n",
    "    return pd.DataFrame.from_dict(df_dict, orient=\"index\", columns=models_dict.keys())\n",
    "\n",
    "    # Metrics\n",
    "models_dict = {\"Unmitigated\": (test_preds, test_scores)}\n",
    "get_metrics_df(models_dict, Y_test, A_str_test)"
   ]
  },
  {
   "cell_type": "markdown",
   "metadata": {
    "id": "Aefwk-nl-jBu"
   },
   "source": [
    "Mitigate the disparities in predictions with the Fairlearn postprocessing algorithm ThresholdOptimizer, use `equalized_odds` for the constraint. (https://fairlearn.github.io/v0.6.0/api_reference/fairlearn.postprocessing.html)."
   ]
  },
  {
   "cell_type": "code",
   "execution_count": 8,
   "metadata": {
    "colab": {
     "base_uri": "https://localhost:8080/",
     "height": 549
    },
    "id": "EFGggw-J-jBx",
    "outputId": "d20db189-cf88-4566-f023-a55d96015c26"
   },
   "outputs": [
    {
     "name": "stdout",
     "output_type": "stream",
     "text": [
      "[LightGBM] [Info] Number of positive: 210, number of negative: 210\n",
      "[LightGBM] [Info] Auto-choosing row-wise multi-threading, the overhead of testing was 0.000266 seconds.\n",
      "You can set `force_row_wise=true` to remove the overhead.\n",
      "And if memory is not enough, you can set `force_col_wise=true`.\n",
      "[LightGBM] [Info] Total Bins 416\n",
      "[LightGBM] [Info] Number of data points in the train set: 420, number of used features: 19\n",
      "[LightGBM] [Info] [binary:BoostFromScore]: pavg=0.500000 -> initscore=0.000000\n",
      "[LightGBM] [Warning] No further splits with positive gain, best gain: -inf\n",
      "[LightGBM] [Warning] No further splits with positive gain, best gain: -inf\n",
      "[LightGBM] [Warning] No further splits with positive gain, best gain: -inf\n",
      "[LightGBM] [Warning] No further splits with positive gain, best gain: -inf\n",
      "[LightGBM] [Warning] No further splits with positive gain, best gain: -inf\n",
      "[LightGBM] [Warning] No further splits with positive gain, best gain: -inf\n",
      "[LightGBM] [Warning] No further splits with positive gain, best gain: -inf\n",
      "[LightGBM] [Warning] No further splits with positive gain, best gain: -inf\n",
      "[LightGBM] [Warning] No further splits with positive gain, best gain: -inf\n",
      "[LightGBM] [Warning] No further splits with positive gain, best gain: -inf\n",
      "[LightGBM] [Warning] No further splits with positive gain, best gain: -inf\n",
      "[LightGBM] [Warning] No further splits with positive gain, best gain: -inf\n",
      "[LightGBM] [Warning] No further splits with positive gain, best gain: -inf\n",
      "[LightGBM] [Warning] No further splits with positive gain, best gain: -inf\n",
      "[LightGBM] [Warning] No further splits with positive gain, best gain: -inf\n",
      "[LightGBM] [Warning] No further splits with positive gain, best gain: -inf\n",
      "[LightGBM] [Warning] No further splits with positive gain, best gain: -inf\n",
      "[LightGBM] [Warning] No further splits with positive gain, best gain: -inf\n",
      "[LightGBM] [Warning] No further splits with positive gain, best gain: -inf\n",
      "[LightGBM] [Warning] No further splits with positive gain, best gain: -inf\n",
      "[LightGBM] [Warning] No further splits with positive gain, best gain: -inf\n",
      "[LightGBM] [Warning] No further splits with positive gain, best gain: -inf\n",
      "[LightGBM] [Warning] No further splits with positive gain, best gain: -inf\n",
      "[LightGBM] [Warning] No further splits with positive gain, best gain: -inf\n",
      "[LightGBM] [Warning] No further splits with positive gain, best gain: -inf\n",
      "[LightGBM] [Warning] No further splits with positive gain, best gain: -inf\n",
      "[LightGBM] [Warning] No further splits with positive gain, best gain: -inf\n",
      "[LightGBM] [Warning] No further splits with positive gain, best gain: -inf\n",
      "[LightGBM] [Warning] No further splits with positive gain, best gain: -inf\n",
      "[LightGBM] [Warning] No further splits with positive gain, best gain: -inf\n",
      "[LightGBM] [Warning] No further splits with positive gain, best gain: -inf\n",
      "[LightGBM] [Warning] No further splits with positive gain, best gain: -inf\n",
      "[LightGBM] [Warning] No further splits with positive gain, best gain: -inf\n",
      "[LightGBM] [Warning] No further splits with positive gain, best gain: -inf\n",
      "[LightGBM] [Warning] No further splits with positive gain, best gain: -inf\n",
      "[LightGBM] [Warning] No further splits with positive gain, best gain: -inf\n",
      "[LightGBM] [Warning] No further splits with positive gain, best gain: -inf\n",
      "[LightGBM] [Warning] No further splits with positive gain, best gain: -inf\n",
      "[LightGBM] [Warning] No further splits with positive gain, best gain: -inf\n",
      "[LightGBM] [Warning] No further splits with positive gain, best gain: -inf\n",
      "[LightGBM] [Warning] No further splits with positive gain, best gain: -inf\n",
      "[LightGBM] [Warning] No further splits with positive gain, best gain: -inf\n",
      "[LightGBM] [Warning] No further splits with positive gain, best gain: -inf\n",
      "[LightGBM] [Warning] No further splits with positive gain, best gain: -inf\n",
      "[LightGBM] [Warning] No further splits with positive gain, best gain: -inf\n",
      "[LightGBM] [Warning] No further splits with positive gain, best gain: -inf\n",
      "[LightGBM] [Warning] No further splits with positive gain, best gain: -inf\n",
      "[LightGBM] [Warning] No further splits with positive gain, best gain: -inf\n",
      "[LightGBM] [Warning] No further splits with positive gain, best gain: -inf\n",
      "[LightGBM] [Warning] No further splits with positive gain, best gain: -inf\n",
      "[LightGBM] [Warning] No further splits with positive gain, best gain: -inf\n",
      "[LightGBM] [Warning] No further splits with positive gain, best gain: -inf\n",
      "[LightGBM] [Warning] No further splits with positive gain, best gain: -inf\n",
      "[LightGBM] [Warning] No further splits with positive gain, best gain: -inf\n",
      "[LightGBM] [Warning] No further splits with positive gain, best gain: -inf\n",
      "[LightGBM] [Warning] No further splits with positive gain, best gain: -inf\n",
      "[LightGBM] [Warning] No further splits with positive gain, best gain: -inf\n",
      "[LightGBM] [Warning] No further splits with positive gain, best gain: -inf\n",
      "[LightGBM] [Warning] No further splits with positive gain, best gain: -inf\n",
      "[LightGBM] [Warning] No further splits with positive gain, best gain: -inf\n",
      "[LightGBM] [Warning] No further splits with positive gain, best gain: -inf\n",
      "[LightGBM] [Warning] No further splits with positive gain, best gain: -inf\n",
      "[LightGBM] [Warning] No further splits with positive gain, best gain: -inf\n",
      "[LightGBM] [Warning] No further splits with positive gain, best gain: -inf\n",
      "[LightGBM] [Warning] No further splits with positive gain, best gain: -inf\n",
      "[LightGBM] [Warning] No further splits with positive gain, best gain: -inf\n",
      "[LightGBM] [Warning] No further splits with positive gain, best gain: -inf\n",
      "[LightGBM] [Warning] No further splits with positive gain, best gain: -inf\n",
      "[LightGBM] [Warning] No further splits with positive gain, best gain: -inf\n",
      "[LightGBM] [Warning] No further splits with positive gain, best gain: -inf\n",
      "Error calculating Demographic parity difference: max() got an unexpected keyword argument 'level'\n",
      "Error calculating Balanced error rate difference: max() got an unexpected keyword argument 'level'\n",
      "Error calculating Equalized odds difference: max() got an unexpected keyword argument 'level'\n",
      "Error calculating AUC difference: max() got an unexpected keyword argument 'level'\n"
     ]
    },
    {
     "data": {
      "text/html": [
       "<div>\n",
       "<style scoped>\n",
       "    .dataframe tbody tr th:only-of-type {\n",
       "        vertical-align: middle;\n",
       "    }\n",
       "\n",
       "    .dataframe tbody tr th {\n",
       "        vertical-align: top;\n",
       "    }\n",
       "\n",
       "    .dataframe thead th {\n",
       "        text-align: right;\n",
       "    }\n",
       "</style>\n",
       "<table border=\"1\" class=\"dataframe\">\n",
       "  <thead>\n",
       "    <tr style=\"text-align: right;\">\n",
       "      <th></th>\n",
       "      <th>Unmitigated</th>\n",
       "      <th>ThresholdOptimizer</th>\n",
       "    </tr>\n",
       "  </thead>\n",
       "  <tbody>\n",
       "    <tr>\n",
       "      <th>Overall selection rate</th>\n",
       "      <td>0.413333</td>\n",
       "      <td>0.36</td>\n",
       "    </tr>\n",
       "    <tr>\n",
       "      <th>Demographic parity difference</th>\n",
       "      <td>None</td>\n",
       "      <td>None</td>\n",
       "    </tr>\n",
       "    <tr>\n",
       "      <th>Demographic parity ratio</th>\n",
       "      <td>0.224138</td>\n",
       "      <td>0.0</td>\n",
       "    </tr>\n",
       "    <tr>\n",
       "      <th>-----</th>\n",
       "      <td></td>\n",
       "      <td></td>\n",
       "    </tr>\n",
       "    <tr>\n",
       "      <th>Overall balanced error rate</th>\n",
       "      <td>0.231746</td>\n",
       "      <td>0.4</td>\n",
       "    </tr>\n",
       "    <tr>\n",
       "      <th>Balanced error rate difference</th>\n",
       "      <td>None</td>\n",
       "      <td>None</td>\n",
       "    </tr>\n",
       "    <tr>\n",
       "      <th>Equalized odds difference</th>\n",
       "      <td>None</td>\n",
       "      <td>None</td>\n",
       "    </tr>\n",
       "    <tr>\n",
       "      <th>------</th>\n",
       "      <td></td>\n",
       "      <td></td>\n",
       "    </tr>\n",
       "    <tr>\n",
       "      <th>Overall AUC</th>\n",
       "      <td>0.851323</td>\n",
       "      <td>0.6</td>\n",
       "    </tr>\n",
       "    <tr>\n",
       "      <th>AUC difference</th>\n",
       "      <td>None</td>\n",
       "      <td>None</td>\n",
       "    </tr>\n",
       "  </tbody>\n",
       "</table>\n",
       "</div>"
      ],
      "text/plain": [
       "                               Unmitigated ThresholdOptimizer\n",
       "Overall selection rate            0.413333               0.36\n",
       "Demographic parity difference         None               None\n",
       "Demographic parity ratio          0.224138                0.0\n",
       "-----                                                        \n",
       "Overall balanced error rate       0.231746                0.4\n",
       "Balanced error rate difference        None               None\n",
       "Equalized odds difference             None               None\n",
       "------                                                       \n",
       "Overall AUC                       0.851323                0.6\n",
       "AUC difference                        None               None"
      ]
     },
     "execution_count": 8,
     "metadata": {},
     "output_type": "execute_result"
    }
   ],
   "source": [
    "postprocess_est = ThresholdOptimizer(\n",
    "    estimator=model,\n",
    "    constraints=\"equalized_odds\")\n",
    "\n",
    "# Balanced data set is obtained by sampling the same number of points from the majority class (Y=0)\n",
    "# as there are points in the minority class (Y=1)\n",
    "balanced_idx1 = df_train[Y_train==1].index\n",
    "pp_train_idx = balanced_idx1.union(Y_train[Y_train==0].sample(n=balanced_idx1.size, random_state=1000).index)\n",
    "\n",
    "df_train_balanced = df_train.loc[pp_train_idx, :]\n",
    "Y_train_balanced = Y_train.loc[pp_train_idx]\n",
    "A_train_balanced = A_train.loc[pp_train_idx]\n",
    "\n",
    "postprocess_est.fit(df_train_balanced, Y_train_balanced, sensitive_features=A_train_balanced)\n",
    "\n",
    "postprocess_preds = postprocess_est.predict(df_test, sensitive_features=A_test)\n",
    "\n",
    "models_dict = {\"Unmitigated\": (test_preds, test_scores),\n",
    "              \"ThresholdOptimizer\": (postprocess_preds, postprocess_preds)}\n",
    "get_metrics_df(models_dict, Y_test, A_str_test)"
   ]
  },
  {
   "cell_type": "code",
   "execution_count": 28,
   "metadata": {},
   "outputs": [
    {
     "data": {
      "text/plain": [
       "['model_pipeline.pkl']"
      ]
     },
     "execution_count": 28,
     "metadata": {},
     "output_type": "execute_result"
    }
   ],
   "source": [
    "from sklearn.preprocessing import StandardScaler\n",
    "from sklearn.pipeline import Pipeline\n",
    "import joblib\n",
    "\n",
    "# Create a pipeline with the scaler and the ThresholdOptimizer\n",
    "pipeline = Pipeline([\n",
    "    ('scaler', StandardScaler()),\n",
    "    ('postprocess_est', postprocess_est)\n",
    "])\n",
    "\n",
    "# Save the pipeline\n",
    "joblib.dump(pipeline, 'model_pipeline.pkl')"
   ]
  },
  {
   "cell_type": "markdown",
   "metadata": {
    "id": "BxzBrVuyixo0"
   },
   "source": [
    "Umitigated Equalized odds difference: 0.865385\t\n",
    "ThresholdOptimizer algorithm processed equalized odds difference: 0.653846\n",
    "\n"
   ]
  },
  {
   "cell_type": "markdown",
   "metadata": {
    "id": "GGALpX6X-jBy"
   },
   "source": [
    "Compare the disparity in accuracy and prediction between the unmitaged and optimized models with `FairlearnDashboard`."
   ]
  },
  {
   "cell_type": "code",
   "execution_count": 18,
   "metadata": {
    "colab": {
     "base_uri": "https://localhost:8080/",
     "height": 88,
     "referenced_widgets": [
      "12b6e0f768444f5aa84861878cce1b40"
     ]
    },
    "id": "qWe0K5dT-jB0",
    "outputId": "896b84e5-93dc-45b1-f354-c54b602d1905"
   },
   "outputs": [
    {
     "data": {
      "application/vnd.jupyter.widget-view+json": {
       "model_id": "4eeee16baef84d7d874cb3692242b921",
       "version_major": 2,
       "version_minor": 0
      },
      "text/plain": [
       "FairlearnWidget(value={'true_y': [1, 0, 0, 1, 0, 0, 0, 1, 0, 0, 0, 1, 0, 0, 0, 0, 1, 0, 1, 0, 0, 0, 1, 0, 0, 1…"
      ]
     },
     "metadata": {},
     "output_type": "display_data"
    },
    {
     "data": {
      "text/plain": [
       "<fairlearn.widget._fairlearn_dashboard.FairlearnDashboard at 0x3056435e0>"
      ]
     },
     "execution_count": 18,
     "metadata": {},
     "output_type": "execute_result"
    }
   ],
   "source": [
    "FairlearnDashboard(sensitive_features=A_str_test, sensitive_feature_names=['JOB'],\n",
    "                   y_true=Y_test,\n",
    "                   y_pred={\"Unmitigated\": test_preds,\n",
    "                          \"ThresholdOptimizer\": postprocess_preds})\n"
   ]
  },
  {
   "cell_type": "markdown",
   "metadata": {},
   "source": [
    "\n",
    "Disparity in accuracy:\n",
    "    The umitaged model has a higher level of accuracy of 78%, a lower level of dispararity \n",
    "    of 19.7%; while the optimized model has lower accuracy of 74% and higher level of\n",
    "    dispararity of 26.4%.\n",
    "    \n",
    "\n",
    "    \n",
    "Dispararity in prediction:\n",
    "    The optimized model has a lower level of accuracy of 74%, but has a lower level of \n",
    "    disparity of 13.5%.\n",
    "    Meanwhile, the unmitaged medel has the highest accuracy of 78%, and the highest disparity\n",
    "    of 43.3%.\n",
    "    \n",
    "    Trade-offs: Even though, in predition, the ThresholdOptimizer algorithm helps the model\n",
    "    achieves a very high accuracy, in the meantime, it also causes a very high disparity. \n",
    "    And in accuracy, it doesn't benift the model. On the contrary, the model without \n",
    "    the algorithm performs better.\n",
    "    "
   ]
  },
  {
   "cell_type": "markdown",
   "metadata": {
    "id": "hVP9KJ-3-jB0"
   },
   "source": [
    "Use `GridSearch`(https://fairlearn.github.io/v0.6.0/api_reference/fairlearn.reductions.html?highlight=gridsearch#fairlearn.reductions.GridSearch)to train multiple models to mitigate the disparities. Create scatter plots to compare the performace (`AUC` or `Balanced Acuracy`) and fairness (`Equalized Odds Difference`) of the `GridSearch`, `ThreshholdOptimizer` and `Unmitigated` models."
   ]
  },
  {
   "cell_type": "code",
   "execution_count": 20,
   "metadata": {
    "id": "SLqk85Zu-jB4"
   },
   "outputs": [
    {
     "ename": "TypeError",
     "evalue": "sum() got an unexpected keyword argument 'level'",
     "output_type": "error",
     "traceback": [
      "\u001b[0;31m---------------------------------------------------------------------------\u001b[0m",
      "\u001b[0;31mTypeError\u001b[0m                                 Traceback (most recent call last)",
      "Cell \u001b[0;32mIn[20], line 9\u001b[0m\n\u001b[1;32m      3\u001b[0m \u001b[38;5;66;03m# Train GridSearch\u001b[39;00m\n\u001b[1;32m      4\u001b[0m sweep \u001b[38;5;241m=\u001b[39m GridSearch(model,\n\u001b[1;32m      5\u001b[0m                    constraints\u001b[38;5;241m=\u001b[39mEqualizedOdds(),\n\u001b[1;32m      6\u001b[0m                    grid_size\u001b[38;5;241m=\u001b[39m\u001b[38;5;241m41\u001b[39m,\n\u001b[1;32m      7\u001b[0m                    grid_limit\u001b[38;5;241m=\u001b[39m\u001b[38;5;241m2\u001b[39m)\n\u001b[0;32m----> 9\u001b[0m \u001b[43msweep\u001b[49m\u001b[38;5;241;43m.\u001b[39;49m\u001b[43mfit\u001b[49m\u001b[43m(\u001b[49m\u001b[43mdf_train_balanced\u001b[49m\u001b[43m,\u001b[49m\u001b[43m \u001b[49m\u001b[43mY_train_balanced\u001b[49m\u001b[43m,\u001b[49m\u001b[43m \u001b[49m\u001b[43msensitive_features\u001b[49m\u001b[38;5;241;43m=\u001b[39;49m\u001b[43mA_train_balanced\u001b[49m\u001b[43m)\u001b[49m\n\u001b[1;32m     11\u001b[0m sweep_preds \u001b[38;5;241m=\u001b[39m [predictor\u001b[38;5;241m.\u001b[39mpredict(df_test) \u001b[38;5;28;01mfor\u001b[39;00m predictor \u001b[38;5;129;01min\u001b[39;00m sweep\u001b[38;5;241m.\u001b[39mpredictors_]\n\u001b[1;32m     12\u001b[0m sweep_scores \u001b[38;5;241m=\u001b[39m [predictor\u001b[38;5;241m.\u001b[39mpredict_proba(df_test)[:, \u001b[38;5;241m1\u001b[39m] \u001b[38;5;28;01mfor\u001b[39;00m predictor \u001b[38;5;129;01min\u001b[39;00m sweep\u001b[38;5;241m.\u001b[39mpredictors_]\n",
      "File \u001b[0;32m/Library/Frameworks/Python.framework/Versions/3.10/lib/python3.10/site-packages/fairlearn/reductions/_grid_search/grid_search.py:164\u001b[0m, in \u001b[0;36mGridSearch.fit\u001b[0;34m(self, X, y, **kwargs)\u001b[0m\n\u001b[1;32m    162\u001b[0m lambda_vec \u001b[38;5;241m=\u001b[39m grid[i]\n\u001b[1;32m    163\u001b[0m logger\u001b[38;5;241m.\u001b[39mdebug(\u001b[38;5;124m\"\u001b[39m\u001b[38;5;124mObtaining weights\u001b[39m\u001b[38;5;124m\"\u001b[39m)\n\u001b[0;32m--> 164\u001b[0m weights \u001b[38;5;241m=\u001b[39m \u001b[38;5;28;43mself\u001b[39;49m\u001b[38;5;241;43m.\u001b[39;49m\u001b[43mconstraints\u001b[49m\u001b[38;5;241;43m.\u001b[39;49m\u001b[43msigned_weights\u001b[49m\u001b[43m(\u001b[49m\u001b[43mlambda_vec\u001b[49m\u001b[43m)\u001b[49m\n\u001b[1;32m    165\u001b[0m \u001b[38;5;28;01mif\u001b[39;00m \u001b[38;5;129;01mnot\u001b[39;00m objective_in_the_span:\n\u001b[1;32m    166\u001b[0m     weights \u001b[38;5;241m=\u001b[39m weights \u001b[38;5;241m+\u001b[39m objective\u001b[38;5;241m.\u001b[39msigned_weights()\n",
      "File \u001b[0;32m/Library/Frameworks/Python.framework/Versions/3.10/lib/python3.10/site-packages/fairlearn/reductions/_moments/utility_parity.py:206\u001b[0m, in \u001b[0;36mUtilityParity.signed_weights\u001b[0;34m(self, lambda_vec)\u001b[0m\n\u001b[1;32m    192\u001b[0m \u001b[38;5;28;01mdef\u001b[39;00m \u001b[38;5;21msigned_weights\u001b[39m(\u001b[38;5;28mself\u001b[39m, lambda_vec):\n\u001b[1;32m    193\u001b[0m \u001b[38;5;250m    \u001b[39m\u001b[38;5;124;03m\"\"\"Compute the signed weights.\u001b[39;00m\n\u001b[1;32m    194\u001b[0m \n\u001b[1;32m    195\u001b[0m \u001b[38;5;124;03m    Uses the equations for :math:`C_i^0` and :math:`C_i^1` as defined\u001b[39;00m\n\u001b[0;32m   (...)\u001b[0m\n\u001b[1;32m    204\u001b[0m \u001b[38;5;124;03m        The vector of Lagrange multipliers indexed by `index`\u001b[39;00m\n\u001b[1;32m    205\u001b[0m \u001b[38;5;124;03m    \"\"\"\u001b[39;00m\n\u001b[0;32m--> 206\u001b[0m     lambda_event \u001b[38;5;241m=\u001b[39m \u001b[43m(\u001b[49m\u001b[43mlambda_vec\u001b[49m\u001b[43m[\u001b[49m\u001b[38;5;124;43m\"\u001b[39;49m\u001b[38;5;124;43m+\u001b[39;49m\u001b[38;5;124;43m\"\u001b[39;49m\u001b[43m]\u001b[49m\u001b[43m \u001b[49m\u001b[38;5;241;43m-\u001b[39;49m\u001b[43m \u001b[49m\u001b[38;5;28;43mself\u001b[39;49m\u001b[38;5;241;43m.\u001b[39;49m\u001b[43mratio\u001b[49m\u001b[43m \u001b[49m\u001b[38;5;241;43m*\u001b[39;49m\u001b[43m \u001b[49m\u001b[43mlambda_vec\u001b[49m\u001b[43m[\u001b[49m\u001b[38;5;124;43m\"\u001b[39;49m\u001b[38;5;124;43m-\u001b[39;49m\u001b[38;5;124;43m\"\u001b[39;49m\u001b[43m]\u001b[49m\u001b[43m)\u001b[49m\u001b[38;5;241;43m.\u001b[39;49m\u001b[43msum\u001b[49m\u001b[43m(\u001b[49m\u001b[43mlevel\u001b[49m\u001b[38;5;241;43m=\u001b[39;49m\u001b[43m_EVENT\u001b[49m\u001b[43m)\u001b[49m \u001b[38;5;241m/\u001b[39m \\\n\u001b[1;32m    207\u001b[0m         \u001b[38;5;28mself\u001b[39m\u001b[38;5;241m.\u001b[39mprob_event\n\u001b[1;32m    208\u001b[0m     lambda_group_event \u001b[38;5;241m=\u001b[39m (\u001b[38;5;28mself\u001b[39m\u001b[38;5;241m.\u001b[39mratio \u001b[38;5;241m*\u001b[39m lambda_vec[\u001b[38;5;124m\"\u001b[39m\u001b[38;5;124m+\u001b[39m\u001b[38;5;124m\"\u001b[39m] \u001b[38;5;241m-\u001b[39m lambda_vec[\u001b[38;5;124m\"\u001b[39m\u001b[38;5;124m-\u001b[39m\u001b[38;5;124m\"\u001b[39m]) \u001b[38;5;241m/\u001b[39m \\\n\u001b[1;32m    209\u001b[0m         \u001b[38;5;28mself\u001b[39m\u001b[38;5;241m.\u001b[39mprob_group_event\n\u001b[1;32m    210\u001b[0m     adjust \u001b[38;5;241m=\u001b[39m lambda_event \u001b[38;5;241m-\u001b[39m lambda_group_event\n",
      "File \u001b[0;32m/Library/Frameworks/Python.framework/Versions/3.10/lib/python3.10/site-packages/pandas/core/series.py:6204\u001b[0m, in \u001b[0;36mSeries.sum\u001b[0;34m(self, axis, skipna, numeric_only, min_count, **kwargs)\u001b[0m\n\u001b[1;32m   6195\u001b[0m \u001b[38;5;129m@doc\u001b[39m(make_doc(\u001b[38;5;124m\"\u001b[39m\u001b[38;5;124msum\u001b[39m\u001b[38;5;124m\"\u001b[39m, ndim\u001b[38;5;241m=\u001b[39m\u001b[38;5;241m1\u001b[39m))\n\u001b[1;32m   6196\u001b[0m \u001b[38;5;28;01mdef\u001b[39;00m \u001b[38;5;21msum\u001b[39m(\n\u001b[1;32m   6197\u001b[0m     \u001b[38;5;28mself\u001b[39m,\n\u001b[0;32m   (...)\u001b[0m\n\u001b[1;32m   6202\u001b[0m     \u001b[38;5;241m*\u001b[39m\u001b[38;5;241m*\u001b[39mkwargs,\n\u001b[1;32m   6203\u001b[0m ):\n\u001b[0;32m-> 6204\u001b[0m     \u001b[38;5;28;01mreturn\u001b[39;00m \u001b[43mNDFrame\u001b[49m\u001b[38;5;241;43m.\u001b[39;49m\u001b[43msum\u001b[49m\u001b[43m(\u001b[49m\u001b[38;5;28;43mself\u001b[39;49m\u001b[43m,\u001b[49m\u001b[43m \u001b[49m\u001b[43maxis\u001b[49m\u001b[43m,\u001b[49m\u001b[43m \u001b[49m\u001b[43mskipna\u001b[49m\u001b[43m,\u001b[49m\u001b[43m \u001b[49m\u001b[43mnumeric_only\u001b[49m\u001b[43m,\u001b[49m\u001b[43m \u001b[49m\u001b[43mmin_count\u001b[49m\u001b[43m,\u001b[49m\u001b[43m \u001b[49m\u001b[38;5;241;43m*\u001b[39;49m\u001b[38;5;241;43m*\u001b[39;49m\u001b[43mkwargs\u001b[49m\u001b[43m)\u001b[49m\n",
      "File \u001b[0;32m/Library/Frameworks/Python.framework/Versions/3.10/lib/python3.10/site-packages/pandas/core/generic.py:12078\u001b[0m, in \u001b[0;36mNDFrame.sum\u001b[0;34m(self, axis, skipna, numeric_only, min_count, **kwargs)\u001b[0m\n\u001b[1;32m  12070\u001b[0m \u001b[38;5;28;01mdef\u001b[39;00m \u001b[38;5;21msum\u001b[39m(\n\u001b[1;32m  12071\u001b[0m     \u001b[38;5;28mself\u001b[39m,\n\u001b[1;32m  12072\u001b[0m     axis: Axis \u001b[38;5;241m|\u001b[39m \u001b[38;5;28;01mNone\u001b[39;00m \u001b[38;5;241m=\u001b[39m \u001b[38;5;241m0\u001b[39m,\n\u001b[0;32m   (...)\u001b[0m\n\u001b[1;32m  12076\u001b[0m     \u001b[38;5;241m*\u001b[39m\u001b[38;5;241m*\u001b[39mkwargs,\n\u001b[1;32m  12077\u001b[0m ):\n\u001b[0;32m> 12078\u001b[0m     \u001b[38;5;28;01mreturn\u001b[39;00m \u001b[38;5;28;43mself\u001b[39;49m\u001b[38;5;241;43m.\u001b[39;49m\u001b[43m_min_count_stat_function\u001b[49m\u001b[43m(\u001b[49m\n\u001b[1;32m  12079\u001b[0m \u001b[43m        \u001b[49m\u001b[38;5;124;43m\"\u001b[39;49m\u001b[38;5;124;43msum\u001b[39;49m\u001b[38;5;124;43m\"\u001b[39;49m\u001b[43m,\u001b[49m\u001b[43m \u001b[49m\u001b[43mnanops\u001b[49m\u001b[38;5;241;43m.\u001b[39;49m\u001b[43mnansum\u001b[49m\u001b[43m,\u001b[49m\u001b[43m \u001b[49m\u001b[43maxis\u001b[49m\u001b[43m,\u001b[49m\u001b[43m \u001b[49m\u001b[43mskipna\u001b[49m\u001b[43m,\u001b[49m\u001b[43m \u001b[49m\u001b[43mnumeric_only\u001b[49m\u001b[43m,\u001b[49m\u001b[43m \u001b[49m\u001b[43mmin_count\u001b[49m\u001b[43m,\u001b[49m\u001b[43m \u001b[49m\u001b[38;5;241;43m*\u001b[39;49m\u001b[38;5;241;43m*\u001b[39;49m\u001b[43mkwargs\u001b[49m\n\u001b[1;32m  12080\u001b[0m \u001b[43m    \u001b[49m\u001b[43m)\u001b[49m\n",
      "File \u001b[0;32m/Library/Frameworks/Python.framework/Versions/3.10/lib/python3.10/site-packages/pandas/core/generic.py:12043\u001b[0m, in \u001b[0;36mNDFrame._min_count_stat_function\u001b[0;34m(self, name, func, axis, skipna, numeric_only, min_count, **kwargs)\u001b[0m\n\u001b[1;32m  12031\u001b[0m \u001b[38;5;129m@final\u001b[39m\n\u001b[1;32m  12032\u001b[0m \u001b[38;5;28;01mdef\u001b[39;00m \u001b[38;5;21m_min_count_stat_function\u001b[39m(\n\u001b[1;32m  12033\u001b[0m     \u001b[38;5;28mself\u001b[39m,\n\u001b[0;32m   (...)\u001b[0m\n\u001b[1;32m  12040\u001b[0m     \u001b[38;5;241m*\u001b[39m\u001b[38;5;241m*\u001b[39mkwargs,\n\u001b[1;32m  12041\u001b[0m ):\n\u001b[1;32m  12042\u001b[0m     \u001b[38;5;28;01massert\u001b[39;00m name \u001b[38;5;129;01min\u001b[39;00m [\u001b[38;5;124m\"\u001b[39m\u001b[38;5;124msum\u001b[39m\u001b[38;5;124m\"\u001b[39m, \u001b[38;5;124m\"\u001b[39m\u001b[38;5;124mprod\u001b[39m\u001b[38;5;124m\"\u001b[39m], name\n\u001b[0;32m> 12043\u001b[0m     \u001b[43mnv\u001b[49m\u001b[38;5;241;43m.\u001b[39;49m\u001b[43mvalidate_func\u001b[49m\u001b[43m(\u001b[49m\u001b[43mname\u001b[49m\u001b[43m,\u001b[49m\u001b[43m \u001b[49m\u001b[43m(\u001b[49m\u001b[43m)\u001b[49m\u001b[43m,\u001b[49m\u001b[43m \u001b[49m\u001b[43mkwargs\u001b[49m\u001b[43m)\u001b[49m\n\u001b[1;32m  12045\u001b[0m     validate_bool_kwarg(skipna, \u001b[38;5;124m\"\u001b[39m\u001b[38;5;124mskipna\u001b[39m\u001b[38;5;124m\"\u001b[39m, none_allowed\u001b[38;5;241m=\u001b[39m\u001b[38;5;28;01mFalse\u001b[39;00m)\n\u001b[1;32m  12047\u001b[0m     \u001b[38;5;28;01mif\u001b[39;00m axis \u001b[38;5;129;01mis\u001b[39;00m \u001b[38;5;28;01mNone\u001b[39;00m:\n",
      "File \u001b[0;32m/Library/Frameworks/Python.framework/Versions/3.10/lib/python3.10/site-packages/pandas/compat/numpy/function.py:416\u001b[0m, in \u001b[0;36mvalidate_func\u001b[0;34m(fname, args, kwargs)\u001b[0m\n\u001b[1;32m    413\u001b[0m     \u001b[38;5;28;01mreturn\u001b[39;00m validate_stat_func(args, kwargs, fname\u001b[38;5;241m=\u001b[39mfname)\n\u001b[1;32m    415\u001b[0m validation_func \u001b[38;5;241m=\u001b[39m _validation_funcs[fname]\n\u001b[0;32m--> 416\u001b[0m \u001b[38;5;28;01mreturn\u001b[39;00m \u001b[43mvalidation_func\u001b[49m\u001b[43m(\u001b[49m\u001b[43margs\u001b[49m\u001b[43m,\u001b[49m\u001b[43m \u001b[49m\u001b[43mkwargs\u001b[49m\u001b[43m)\u001b[49m\n",
      "File \u001b[0;32m/Library/Frameworks/Python.framework/Versions/3.10/lib/python3.10/site-packages/pandas/compat/numpy/function.py:88\u001b[0m, in \u001b[0;36mCompatValidator.__call__\u001b[0;34m(self, args, kwargs, fname, max_fname_arg_count, method)\u001b[0m\n\u001b[1;32m     86\u001b[0m     validate_kwargs(fname, kwargs, \u001b[38;5;28mself\u001b[39m\u001b[38;5;241m.\u001b[39mdefaults)\n\u001b[1;32m     87\u001b[0m \u001b[38;5;28;01melif\u001b[39;00m method \u001b[38;5;241m==\u001b[39m \u001b[38;5;124m\"\u001b[39m\u001b[38;5;124mboth\u001b[39m\u001b[38;5;124m\"\u001b[39m:\n\u001b[0;32m---> 88\u001b[0m     \u001b[43mvalidate_args_and_kwargs\u001b[49m\u001b[43m(\u001b[49m\n\u001b[1;32m     89\u001b[0m \u001b[43m        \u001b[49m\u001b[43mfname\u001b[49m\u001b[43m,\u001b[49m\u001b[43m \u001b[49m\u001b[43margs\u001b[49m\u001b[43m,\u001b[49m\u001b[43m \u001b[49m\u001b[43mkwargs\u001b[49m\u001b[43m,\u001b[49m\u001b[43m \u001b[49m\u001b[43mmax_fname_arg_count\u001b[49m\u001b[43m,\u001b[49m\u001b[43m \u001b[49m\u001b[38;5;28;43mself\u001b[39;49m\u001b[38;5;241;43m.\u001b[39;49m\u001b[43mdefaults\u001b[49m\n\u001b[1;32m     90\u001b[0m \u001b[43m    \u001b[49m\u001b[43m)\u001b[49m\n\u001b[1;32m     91\u001b[0m \u001b[38;5;28;01melse\u001b[39;00m:\n\u001b[1;32m     92\u001b[0m     \u001b[38;5;28;01mraise\u001b[39;00m \u001b[38;5;167;01mValueError\u001b[39;00m(\u001b[38;5;124mf\u001b[39m\u001b[38;5;124m\"\u001b[39m\u001b[38;5;124minvalid validation method \u001b[39m\u001b[38;5;124m'\u001b[39m\u001b[38;5;132;01m{\u001b[39;00mmethod\u001b[38;5;132;01m}\u001b[39;00m\u001b[38;5;124m'\u001b[39m\u001b[38;5;124m\"\u001b[39m)\n",
      "File \u001b[0;32m/Library/Frameworks/Python.framework/Versions/3.10/lib/python3.10/site-packages/pandas/util/_validators.py:223\u001b[0m, in \u001b[0;36mvalidate_args_and_kwargs\u001b[0;34m(fname, args, kwargs, max_fname_arg_count, compat_args)\u001b[0m\n\u001b[1;32m    218\u001b[0m         \u001b[38;5;28;01mraise\u001b[39;00m \u001b[38;5;167;01mTypeError\u001b[39;00m(\n\u001b[1;32m    219\u001b[0m             \u001b[38;5;124mf\u001b[39m\u001b[38;5;124m\"\u001b[39m\u001b[38;5;132;01m{\u001b[39;00mfname\u001b[38;5;132;01m}\u001b[39;00m\u001b[38;5;124m() got multiple values for keyword argument \u001b[39m\u001b[38;5;124m'\u001b[39m\u001b[38;5;132;01m{\u001b[39;00mkey\u001b[38;5;132;01m}\u001b[39;00m\u001b[38;5;124m'\u001b[39m\u001b[38;5;124m\"\u001b[39m\n\u001b[1;32m    220\u001b[0m         )\n\u001b[1;32m    222\u001b[0m kwargs\u001b[38;5;241m.\u001b[39mupdate(args_dict)\n\u001b[0;32m--> 223\u001b[0m \u001b[43mvalidate_kwargs\u001b[49m\u001b[43m(\u001b[49m\u001b[43mfname\u001b[49m\u001b[43m,\u001b[49m\u001b[43m \u001b[49m\u001b[43mkwargs\u001b[49m\u001b[43m,\u001b[49m\u001b[43m \u001b[49m\u001b[43mcompat_args\u001b[49m\u001b[43m)\u001b[49m\n",
      "File \u001b[0;32m/Library/Frameworks/Python.framework/Versions/3.10/lib/python3.10/site-packages/pandas/util/_validators.py:164\u001b[0m, in \u001b[0;36mvalidate_kwargs\u001b[0;34m(fname, kwargs, compat_args)\u001b[0m\n\u001b[1;32m    142\u001b[0m \u001b[38;5;250m\u001b[39m\u001b[38;5;124;03m\"\"\"\u001b[39;00m\n\u001b[1;32m    143\u001b[0m \u001b[38;5;124;03mChecks whether parameters passed to the **kwargs argument in a\u001b[39;00m\n\u001b[1;32m    144\u001b[0m \u001b[38;5;124;03mfunction `fname` are valid parameters as specified in `*compat_args`\u001b[39;00m\n\u001b[0;32m   (...)\u001b[0m\n\u001b[1;32m    161\u001b[0m \u001b[38;5;124;03mmap to the default values specified in `compat_args`\u001b[39;00m\n\u001b[1;32m    162\u001b[0m \u001b[38;5;124;03m\"\"\"\u001b[39;00m\n\u001b[1;32m    163\u001b[0m kwds \u001b[38;5;241m=\u001b[39m kwargs\u001b[38;5;241m.\u001b[39mcopy()\n\u001b[0;32m--> 164\u001b[0m \u001b[43m_check_for_invalid_keys\u001b[49m\u001b[43m(\u001b[49m\u001b[43mfname\u001b[49m\u001b[43m,\u001b[49m\u001b[43m \u001b[49m\u001b[43mkwargs\u001b[49m\u001b[43m,\u001b[49m\u001b[43m \u001b[49m\u001b[43mcompat_args\u001b[49m\u001b[43m)\u001b[49m\n\u001b[1;32m    165\u001b[0m _check_for_default_values(fname, kwds, compat_args)\n",
      "File \u001b[0;32m/Library/Frameworks/Python.framework/Versions/3.10/lib/python3.10/site-packages/pandas/util/_validators.py:138\u001b[0m, in \u001b[0;36m_check_for_invalid_keys\u001b[0;34m(fname, kwargs, compat_args)\u001b[0m\n\u001b[1;32m    136\u001b[0m \u001b[38;5;28;01mif\u001b[39;00m diff:\n\u001b[1;32m    137\u001b[0m     bad_arg \u001b[38;5;241m=\u001b[39m \u001b[38;5;28mnext\u001b[39m(\u001b[38;5;28miter\u001b[39m(diff))\n\u001b[0;32m--> 138\u001b[0m     \u001b[38;5;28;01mraise\u001b[39;00m \u001b[38;5;167;01mTypeError\u001b[39;00m(\u001b[38;5;124mf\u001b[39m\u001b[38;5;124m\"\u001b[39m\u001b[38;5;132;01m{\u001b[39;00mfname\u001b[38;5;132;01m}\u001b[39;00m\u001b[38;5;124m() got an unexpected keyword argument \u001b[39m\u001b[38;5;124m'\u001b[39m\u001b[38;5;132;01m{\u001b[39;00mbad_arg\u001b[38;5;132;01m}\u001b[39;00m\u001b[38;5;124m'\u001b[39m\u001b[38;5;124m\"\u001b[39m)\n",
      "\u001b[0;31mTypeError\u001b[0m: sum() got an unexpected keyword argument 'level'"
     ]
    }
   ],
   "source": [
    "import logging\n",
    "logging.getLogger('fairlearn.reductions').setLevel(logging.ERROR)\n",
    "# Train GridSearch\n",
    "sweep = GridSearch(model,\n",
    "                   constraints=EqualizedOdds(),\n",
    "                   grid_size=41,\n",
    "                   grid_limit=2)\n",
    "\n",
    "sweep.fit(df_train_balanced, Y_train_balanced, sensitive_features=A_train_balanced)\n",
    "\n",
    "sweep_preds = [predictor.predict(df_test) for predictor in sweep.predictors_]\n",
    "sweep_scores = [predictor.predict_proba(df_test)[:, 1] for predictor in sweep.predictors_]\n",
    "\n",
    "equalized_odds_sweep = [\n",
    "    equalized_odds_difference(Y_test, preds, sensitive_features=A_str_test)\n",
    "    for preds in sweep_preds\n",
    "]\n",
    "balanced_accuracy_sweep = [balanced_accuracy_score(Y_test, preds) for preds in sweep_preds]\n",
    "auc_sweep = [roc_auc_score(Y_test, scores) for scores in sweep_scores]\n",
    "\n",
    "all_results = pd.DataFrame(\n",
    "    {\"predictor\": sweep.predictors_, \"accuracy\": balanced_accuracy_sweep, \"disparity\": equalized_odds_sweep}\n",
    ")\n",
    "non_dominated = []\n",
    "for row in all_results.itertuples():\n",
    "    accuracy_for_lower_or_eq_disparity = all_results[\"accuracy\"][all_results[\"disparity\"] <= row.disparity]\n",
    "    if row.accuracy >= accuracy_for_lower_or_eq_disparity.max():\n",
    "        non_dominated.append(True)\n",
    "    else:\n",
    "        non_dominated.append(False)\n",
    "\n",
    "equalized_odds_sweep_non_dominated = np.asarray(equalized_odds_sweep)[non_dominated]\n",
    "balanced_accuracy_non_dominated = np.asarray(balanced_accuracy_sweep)[non_dominated]\n",
    "auc_non_dominated = np.asarray(auc_sweep)[non_dominated]\n",
    "\n"
   ]
  },
  {
   "cell_type": "code",
   "execution_count": null,
   "metadata": {},
   "outputs": [
    {
     "data": {
      "image/png": "[encoded data removed]",
      "text/plain": [
       "<Figure size 432x288 with 1 Axes>"
      ]
     },
     "metadata": {
      "needs_background": "light"
     },
     "output_type": "display_data"
    }
   ],
   "source": [
    "# Plot equalized odds difference vs balanced accuracy\n",
    "plt.scatter(balanced_accuracy_non_dominated, equalized_odds_sweep_non_dominated, label=\"GridSearch Models\")\n",
    "plt.scatter(balanced_accuracy_score(Y_test, test_preds),\n",
    "            equalized_odds_difference(Y_test, test_preds, sensitive_features=A_str_test),\n",
    "            label=\"Unmitigated Model\")\n",
    "plt.scatter(balanced_accuracy_score(Y_test, postprocess_preds),\n",
    "            equalized_odds_difference(Y_test, postprocess_preds, sensitive_features=A_str_test),\n",
    "            label=\"ThresholdOptimizer Model\")\n",
    "plt.xlabel(\"Balanced Accuracy\")\n",
    "plt.ylabel(\"Equalized Odds Difference\")\n",
    "plt.legend(bbox_to_anchor=(1.55, 1))\n",
    "plt.show()"
   ]
  },
  {
   "cell_type": "code",
   "execution_count": 21,
   "metadata": {},
   "outputs": [
    {
     "data": {
      "image/png": "[encoded data removed]",
      "text/plain": [
       "<Figure size 432x288 with 1 Axes>"
      ]
     },
     "metadata": {
      "needs_background": "light"
     },
     "output_type": "display_data"
    }
   ],
   "source": [
    "# Plot equalized odds difference vs AUC\n",
    "plt.scatter(auc_non_dominated, equalized_odds_sweep_non_dominated, label=\"GridSearch Models\")\n",
    "plt.scatter(roc_auc_score(Y_test, test_scores),\n",
    "            equalized_odds_difference(Y_test, test_preds, sensitive_features=A_str_test),\n",
    "            label=\"Unmitigated Model\")\n",
    "plt.scatter(roc_auc_score(Y_test, postprocess_preds),\n",
    "            equalized_odds_difference(Y_test, postprocess_preds, sensitive_features=A_str_test),\n",
    "            label=\"ThresholdOptimizer Model\")\n",
    "plt.xlabel(\"AUC\")\n",
    "plt.ylabel(\"Equalized Odds Difference\")\n",
    "plt.legend(bbox_to_anchor=(1.55, 1))\n",
    "plt.show()"
   ]
  },
  {
   "cell_type": "code",
   "execution_count": null,
   "metadata": {},
   "outputs": [],
   "source": [
    "model_sweep_dict = {\"GridSearch_{}\".format(i): sweep_preds[i] for i in range(len(sweep_preds)) if non_dominated[i]}\n",
    "model_sweep_dict.update({\"Unmitigated\": test_preds, \"ThresholdOptimizer\": postprocess_preds})"
   ]
  },
  {
   "cell_type": "markdown",
   "metadata": {
    "id": "_9F0qYZn-jB5"
   },
   "source": [
    "Use `FairlearnDashboard` to compare the disparity in accuracy and predictions of the trained models."
   ]
  },
  {
   "cell_type": "code",
   "execution_count": null,
   "metadata": {
    "id": "l0zlXb4e-jB6"
   },
   "outputs": [
    {
     "ename": "NameError",
     "evalue": "name 'model_sweep_dict' is not defined",
     "output_type": "error",
     "traceback": [
      "\u001b[0;31m---------------------------------------------------------------------------\u001b[0m",
      "\u001b[0;31mNameError\u001b[0m                                 Traceback (most recent call last)",
      "Cell \u001b[0;32mIn[16], line 3\u001b[0m\n\u001b[1;32m      1\u001b[0m fairlearn_dashboard \u001b[38;5;241m=\u001b[39m FairlearnDashboard(sensitive_features\u001b[38;5;241m=\u001b[39mA_str_test, sensitive_feature_names\u001b[38;5;241m=\u001b[39m[\u001b[38;5;124m'\u001b[39m\u001b[38;5;124mJOB\u001b[39m\u001b[38;5;124m'\u001b[39m],\n\u001b[1;32m      2\u001b[0m                    y_true\u001b[38;5;241m=\u001b[39mY_test,\n\u001b[0;32m----> 3\u001b[0m                    y_pred\u001b[38;5;241m=\u001b[39m\u001b[43mmodel_sweep_dict\u001b[49m)\n",
      "\u001b[0;31mNameError\u001b[0m: name 'model_sweep_dict' is not defined"
     ]
    }
   ],
   "source": [
    "FairlearnDashboard(sensitive_features=A_str_test, sensitive_feature_names=['JOB'],\n",
    "                   y_true=Y_test,\n",
    "                   y_pred=model_sweep_dict)"
   ]
  },
  {
   "cell_type": "markdown",
   "metadata": {},
   "source": [
    "Use pycaret to set up the pipeline"
   ]
  },
  {
   "cell_type": "markdown",
   "metadata": {},
   "source": [
    "My ultimate goal is to find a model with the highest accuracy and the lowest dispararity.\n",
    "So I would like to choose the GridSearch_6 model. It performs best in accuracy,\n",
    "with the highest overall accuracy of 80%, and the lowest disparity of 5.46%."
   ]
  }
 ],
 "metadata": {
  "colab": {
   "collapsed_sections": [
    "gEPzNBeo-jBl",
    "lQzWatlT-jBn",
    "zDf5eHTE-jBs",
    "Aefwk-nl-jBu",
    "PJLZzcER-jBy",
    "zi1Ixaty-jB0",
    "cTQYkxe_-jB4"
   ],
   "name": "Lab2_assignment.ipynb",
   "provenance": []
  },
  "kernelspec": {
   "display_name": "Python 3",
   "language": "python",
   "name": "python3"
  },
  "language_info": {
   "codemirror_mode": {
    "name": "ipython",
    "version": 3
   },
   "file_extension": ".py",
   "mimetype": "text/x-python",
   "name": "python",
   "nbconvert_exporter": "python",
   "pygments_lexer": "ipython3",
   "version": "3.10.9"
  },
  "widgets": {
   "application/vnd.jupyter.widget-state+json": {
    "12b6e0f768444f5aa84861878cce1b40": {
     "model_module": "fairlearn-widget",
     "model_module_version": "^0.1.1",
     "model_name": "FairlearnModel",
     "state": {
      "_dom_classes": [],
      "_model_module": "fairlearn-widget",
      "_model_module_version": "^0.1.1",
      "_model_name": "FairlearnModel",
      "_view_count": null,
      "_view_module": "fairlearn-widget",
      "_view_module_version": "^0.1.1",
      "_view_name": "FairlearnView",
      "layout": "IPY_MODEL_b74addf10bdc4b26b3d4276d1a4ba646",
      "request": {},
      "response": {},
      "value": {
       "classification_methods": [
        "accuracy_score",
        "balanced_accuracy_score",
        "precision_score",
        "recall_score",
        "f1_score"
       ],
       "dataset": [
        [
         "unskilled - resident"
        ],
        [
         "skilled employee / official"
        ],
        [
         "unskilled - resident"
        ],
        [
         "unskilled - resident"
        ],
        [
         "unskilled - resident"
        ],
        [
         "unskilled - resident"
        ],
        [
         "unskilled - resident"
        ],
        [
         "skilled employee / official"
        ],
        [
         "unskilled - resident"
        ],
        [
         "management/ self-employed/ highly qualified employee/ officer"
        ],
        [
         "skilled employee / official"
        ],
        [
         "management/ self-employed/ highly qualified employee/ officer"
        ],
        [
         "skilled employee / official"
        ],
        [
         "skilled employee / official"
        ],
        [
         "unskilled - resident"
        ],
        [
         "management/ self-employed/ highly qualified employee/ officer"
        ],
        [
         "skilled employee / official"
        ],
        [
         "skilled employee / official"
        ],
        [
         "skilled employee / official"
        ],
        [
         "skilled employee / official"
        ],
        [
         "management/ self-employed/ highly qualified employee/ officer"
        ],
        [
         "unskilled - resident"
        ],
        [
         "skilled employee / official"
        ],
        [
         "unskilled - resident"
        ],
        [
         "skilled employee / official"
        ],
        [
         "management/ self-employed/ highly qualified employee/ officer"
        ],
        [
         "unskilled - resident"
        ],
        [
         "skilled employee / official"
        ],
        [
         "management/ self-employed/ highly qualified employee/ officer"
        ],
        [
         "skilled employee / official"
        ],
        [
         "skilled employee / official"
        ],
        [
         "skilled employee / official"
        ],
        [
         "skilled employee / official"
        ],
        [
         "skilled employee / official"
        ],
        [
         "skilled employee / official"
        ],
        [
         "skilled employee / official"
        ],
        [
         "skilled employee / official"
        ],
        [
         "skilled employee / official"
        ],
        [
         "skilled employee / official"
        ],
        [
         "skilled employee / official"
        ],
        [
         "skilled employee / official"
        ],
        [
         "unskilled - resident"
        ],
        [
         "unskilled - resident"
        ],
        [
         "management/ self-employed/ highly qualified employee/ officer"
        ],
        [
         "management/ self-employed/ highly qualified employee/ officer"
        ],
        [
         "management/ self-employed/ highly qualified employee/ officer"
        ],
        [
         "skilled employee / official"
        ],
        [
         "unskilled - resident"
        ],
        [
         "skilled employee / official"
        ],
        [
         "skilled employee / official"
        ],
        [
         "skilled employee / official"
        ],
        [
         "skilled employee / official"
        ],
        [
         "skilled employee / official"
        ],
        [
         "skilled employee / official"
        ],
        [
         "skilled employee / official"
        ],
        [
         "unskilled - resident"
        ],
        [
         "skilled employee / official"
        ],
        [
         "management/ self-employed/ highly qualified employee/ officer"
        ],
        [
         "skilled employee / official"
        ],
        [
         "unskilled - resident"
        ],
        [
         "skilled employee / official"
        ],
        [
         "skilled employee / official"
        ],
        [
         "unemployed/ unskilled  - non-resident"
        ],
        [
         "skilled employee / official"
        ],
        [
         "skilled employee / official"
        ],
        [
         "management/ self-employed/ highly qualified employee/ officer"
        ],
        [
         "skilled employee / official"
        ],
        [
         "management/ self-employed/ highly qualified employee/ officer"
        ],
        [
         "unskilled - resident"
        ],
        [
         "unskilled - resident"
        ],
        [
         "unskilled - resident"
        ],
        [
         "skilled employee / official"
        ],
        [
         "skilled employee / official"
        ],
        [
         "skilled employee / official"
        ],
        [
         "management/ self-employed/ highly qualified employee/ officer"
        ],
        [
         "skilled employee / official"
        ],
        [
         "skilled employee / official"
        ],
        [
         "unskilled - resident"
        ],
        [
         "management/ self-employed/ highly qualified employee/ officer"
        ],
        [
         "skilled employee / official"
        ],
        [
         "management/ self-employed/ highly qualified employee/ officer"
        ],
        [
         "skilled employee / official"
        ],
        [
         "management/ self-employed/ highly qualified employee/ officer"
        ],
        [
         "skilled employee / official"
        ],
        [
         "skilled employee / official"
        ],
        [
         "skilled employee / official"
        ],
        [
         "unskilled - resident"
        ],
        [
         "skilled employee / official"
        ],
        [
         "skilled employee / official"
        ],
        [
         "unemployed/ unskilled  - non-resident"
        ],
        [
         "unskilled - resident"
        ],
        [
         "management/ self-employed/ highly qualified employee/ officer"
        ],
        [
         "skilled employee / official"
        ],
        [
         "skilled employee / official"
        ],
        [
         "skilled employee / official"
        ],
        [
         "skilled employee / official"
        ],
        [
         "skilled employee / official"
        ],
        [
         "skilled employee / official"
        ],
        [
         "unskilled - resident"
        ],
        [
         "skilled employee / official"
        ],
        [
         "skilled employee / official"
        ],
        [
         "skilled employee / official"
        ],
        [
         "unemployed/ unskilled  - non-resident"
        ],
        [
         "skilled employee / official"
        ],
        [
         "unskilled - resident"
        ],
        [
         "skilled employee / official"
        ],
        [
         "unskilled - resident"
        ],
        [
         "skilled employee / official"
        ],
        [
         "unskilled - resident"
        ],
        [
         "unskilled - resident"
        ],
        [
         "skilled employee / official"
        ],
        [
         "skilled employee / official"
        ],
        [
         "unskilled - resident"
        ],
        [
         "skilled employee / official"
        ],
        [
         "skilled employee / official"
        ],
        [
         "skilled employee / official"
        ],
        [
         "skilled employee / official"
        ],
        [
         "unskilled - resident"
        ],
        [
         "management/ self-employed/ highly qualified employee/ officer"
        ],
        [
         "unskilled - resident"
        ],
        [
         "skilled employee / official"
        ],
        [
         "skilled employee / official"
        ],
        [
         "management/ self-employed/ highly qualified employee/ officer"
        ],
        [
         "skilled employee / official"
        ],
        [
         "unskilled - resident"
        ],
        [
         "skilled employee / official"
        ],
        [
         "skilled employee / official"
        ],
        [
         "skilled employee / official"
        ],
        [
         "unskilled - resident"
        ],
        [
         "skilled employee / official"
        ],
        [
         "skilled employee / official"
        ],
        [
         "unskilled - resident"
        ],
        [
         "skilled employee / official"
        ],
        [
         "skilled employee / official"
        ],
        [
         "unskilled - resident"
        ],
        [
         "skilled employee / official"
        ],
        [
         "skilled employee / official"
        ],
        [
         "skilled employee / official"
        ],
        [
         "skilled employee / official"
        ],
        [
         "skilled employee / official"
        ],
        [
         "skilled employee / official"
        ],
        [
         "management/ self-employed/ highly qualified employee/ officer"
        ],
        [
         "management/ self-employed/ highly qualified employee/ officer"
        ],
        [
         "skilled employee / official"
        ],
        [
         "skilled employee / official"
        ],
        [
         "skilled employee / official"
        ],
        [
         "unskilled - resident"
        ],
        [
         "skilled employee / official"
        ],
        [
         "skilled employee / official"
        ],
        [
         "skilled employee / official"
        ],
        [
         "skilled employee / official"
        ],
        [
         "unskilled - resident"
        ],
        [
         "unskilled - resident"
        ],
        [
         "skilled employee / official"
        ],
        [
         "skilled employee / official"
        ],
        [
         "management/ self-employed/ highly qualified employee/ officer"
        ],
        [
         "skilled employee / official"
        ],
        [
         "management/ self-employed/ highly qualified employee/ officer"
        ],
        [
         "skilled employee / official"
        ],
        [
         "skilled employee / official"
        ],
        [
         "skilled employee / official"
        ],
        [
         "skilled employee / official"
        ],
        [
         "skilled employee / official"
        ],
        [
         "unskilled - resident"
        ],
        [
         "skilled employee / official"
        ],
        [
         "skilled employee / official"
        ],
        [
         "skilled employee / official"
        ],
        [
         "skilled employee / official"
        ],
        [
         "management/ self-employed/ highly qualified employee/ officer"
        ],
        [
         "skilled employee / official"
        ],
        [
         "skilled employee / official"
        ],
        [
         "skilled employee / official"
        ],
        [
         "skilled employee / official"
        ],
        [
         "management/ self-employed/ highly qualified employee/ officer"
        ],
        [
         "management/ self-employed/ highly qualified employee/ officer"
        ],
        [
         "management/ self-employed/ highly qualified employee/ officer"
        ],
        [
         "unskilled - resident"
        ],
        [
         "skilled employee / official"
        ],
        [
         "management/ self-employed/ highly qualified employee/ officer"
        ],
        [
         "unskilled - resident"
        ],
        [
         "skilled employee / official"
        ],
        [
         "skilled employee / official"
        ],
        [
         "skilled employee / official"
        ],
        [
         "skilled employee / official"
        ],
        [
         "unskilled - resident"
        ],
        [
         "management/ self-employed/ highly qualified employee/ officer"
        ],
        [
         "skilled employee / official"
        ],
        [
         "unskilled - resident"
        ],
        [
         "unskilled - resident"
        ],
        [
         "management/ self-employed/ highly qualified employee/ officer"
        ],
        [
         "skilled employee / official"
        ],
        [
         "skilled employee / official"
        ],
        [
         "skilled employee / official"
        ],
        [
         "skilled employee / official"
        ],
        [
         "management/ self-employed/ highly qualified employee/ officer"
        ],
        [
         "skilled employee / official"
        ],
        [
         "unskilled - resident"
        ],
        [
         "management/ self-employed/ highly qualified employee/ officer"
        ],
        [
         "skilled employee / official"
        ],
        [
         "management/ self-employed/ highly qualified employee/ officer"
        ],
        [
         "skilled employee / official"
        ],
        [
         "skilled employee / official"
        ],
        [
         "unskilled - resident"
        ],
        [
         "management/ self-employed/ highly qualified employee/ officer"
        ],
        [
         "skilled employee / official"
        ],
        [
         "management/ self-employed/ highly qualified employee/ officer"
        ],
        [
         "management/ self-employed/ highly qualified employee/ officer"
        ],
        [
         "skilled employee / official"
        ],
        [
         "unskilled - resident"
        ],
        [
         "unskilled - resident"
        ],
        [
         "skilled employee / official"
        ],
        [
         "unskilled - resident"
        ],
        [
         "management/ self-employed/ highly qualified employee/ officer"
        ],
        [
         "unskilled - resident"
        ],
        [
         "skilled employee / official"
        ],
        [
         "skilled employee / official"
        ],
        [
         "unskilled - resident"
        ],
        [
         "skilled employee / official"
        ],
        [
         "skilled employee / official"
        ],
        [
         "skilled employee / official"
        ],
        [
         "skilled employee / official"
        ],
        [
         "skilled employee / official"
        ],
        [
         "management/ self-employed/ highly qualified employee/ officer"
        ],
        [
         "unskilled - resident"
        ],
        [
         "skilled employee / official"
        ],
        [
         "skilled employee / official"
        ],
        [
         "skilled employee / official"
        ],
        [
         "skilled employee / official"
        ],
        [
         "skilled employee / official"
        ],
        [
         "unskilled - resident"
        ],
        [
         "unskilled - resident"
        ],
        [
         "skilled employee / official"
        ],
        [
         "skilled employee / official"
        ],
        [
         "skilled employee / official"
        ],
        [
         "skilled employee / official"
        ],
        [
         "management/ self-employed/ highly qualified employee/ officer"
        ],
        [
         "unskilled - resident"
        ],
        [
         "unemployed/ unskilled  - non-resident"
        ],
        [
         "unskilled - resident"
        ],
        [
         "management/ self-employed/ highly qualified employee/ officer"
        ],
        [
         "unskilled - resident"
        ],
        [
         "skilled employee / official"
        ],
        [
         "skilled employee / official"
        ],
        [
         "management/ self-employed/ highly qualified employee/ officer"
        ],
        [
         "skilled employee / official"
        ],
        [
         "skilled employee / official"
        ],
        [
         "unskilled - resident"
        ],
        [
         "management/ self-employed/ highly qualified employee/ officer"
        ],
        [
         "management/ self-employed/ highly qualified employee/ officer"
        ],
        [
         "management/ self-employed/ highly qualified employee/ officer"
        ],
        [
         "skilled employee / official"
        ],
        [
         "unskilled - resident"
        ],
        [
         "management/ self-employed/ highly qualified employee/ officer"
        ],
        [
         "management/ self-employed/ highly qualified employee/ officer"
        ],
        [
         "unemployed/ unskilled  - non-resident"
        ],
        [
         "unemployed/ unskilled  - non-resident"
        ],
        [
         "skilled employee / official"
        ],
        [
         "unskilled - resident"
        ],
        [
         "management/ self-employed/ highly qualified employee/ officer"
        ],
        [
         "unskilled - resident"
        ],
        [
         "skilled employee / official"
        ],
        [
         "skilled employee / official"
        ],
        [
         "skilled employee / official"
        ],
        [
         "skilled employee / official"
        ],
        [
         "skilled employee / official"
        ],
        [
         "skilled employee / official"
        ],
        [
         "unskilled - resident"
        ],
        [
         "management/ self-employed/ highly qualified employee/ officer"
        ],
        [
         "skilled employee / official"
        ],
        [
         "unskilled - resident"
        ],
        [
         "skilled employee / official"
        ],
        [
         "unskilled - resident"
        ],
        [
         "skilled employee / official"
        ],
        [
         "unskilled - resident"
        ],
        [
         "skilled employee / official"
        ],
        [
         "management/ self-employed/ highly qualified employee/ officer"
        ],
        [
         "skilled employee / official"
        ],
        [
         "skilled employee / official"
        ],
        [
         "skilled employee / official"
        ],
        [
         "skilled employee / official"
        ],
        [
         "skilled employee / official"
        ],
        [
         "skilled employee / official"
        ],
        [
         "skilled employee / official"
        ],
        [
         "unskilled - resident"
        ],
        [
         "skilled employee / official"
        ],
        [
         "skilled employee / official"
        ],
        [
         "skilled employee / official"
        ],
        [
         "unemployed/ unskilled  - non-resident"
        ],
        [
         "management/ self-employed/ highly qualified employee/ officer"
        ],
        [
         "skilled employee / official"
        ],
        [
         "management/ self-employed/ highly qualified employee/ officer"
        ],
        [
         "management/ self-employed/ highly qualified employee/ officer"
        ],
        [
         "skilled employee / official"
        ],
        [
         "skilled employee / official"
        ],
        [
         "unemployed/ unskilled  - non-resident"
        ],
        [
         "skilled employee / official"
        ],
        [
         "skilled employee / official"
        ],
        [
         "skilled employee / official"
        ],
        [
         "skilled employee / official"
        ],
        [
         "unskilled - resident"
        ]
       ],
       "features": [
        "JOB"
       ],
       "model_names": [
        "Unmitigated",
        "ThresholdOptimizer"
       ],
       "predicted_ys": [
        [
         0,
         0,
         0,
         0,
         0,
         0,
         1,
         1,
         0,
         0,
         0,
         1,
         0,
         0,
         0,
         0,
         1,
         0,
         0,
         0,
         0,
         1,
         1,
         0,
         1,
         1,
         1,
         0,
         1,
         0,
         1,
         0,
         0,
         0,
         1,
         0,
         0,
         1,
         0,
         0,
         0,
         0,
         0,
         0,
         1,
         0,
         0,
         0,
         0,
         1,
         1,
         0,
         1,
         0,
         1,
         0,
         0,
         0,
         0,
         1,
         1,
         1,
         0,
         0,
         0,
         0,
         0,
         1,
         0,
         1,
         0,
         0,
         0,
         1,
         0,
         0,
         0,
         0,
         1,
         1,
         1,
         1,
         0,
         1,
         1,
         1,
         0,
         1,
         1,
         0,
         0,
         1,
         1,
         0,
         0,
         1,
         0,
         0,
         0,
         0,
         1,
         0,
         0,
         0,
         1,
         0,
         0,
         1,
         0,
         1,
         1,
         0,
         1,
         0,
         1,
         0,
         0,
         0,
         0,
         0,
         1,
         0,
         0,
         0,
         0,
         0,
         1,
         0,
         1,
         0,
         1,
         0,
         0,
         1,
         1,
         1,
         0,
         0,
         0,
         1,
         0,
         1,
         0,
         0,
         0,
         0,
         0,
         0,
         0,
         1,
         0,
         0,
         0,
         0,
         1,
         0,
         0,
         1,
         1,
         1,
         1,
         0,
         0,
         1,
         1,
         0,
         0,
         0,
         0,
         1,
         0,
         0,
         0,
         1,
         1,
         1,
         0,
         1,
         0,
         0,
         0,
         0,
         0,
         1,
         0,
         1,
         1,
         1,
         0,
         1,
         0,
         0,
         1,
         1,
         1,
         0,
         0,
         0,
         1,
         1,
         0,
         1,
         0,
         1,
         0,
         1,
         1,
         1,
         0,
         0,
         0,
         1,
         0,
         0,
         1,
         0,
         1,
         0,
         1,
         1,
         0,
         0,
         0,
         0,
         0,
         0,
         1,
         0,
         0,
         0,
         1,
         0,
         0,
         1,
         0,
         1,
         0,
         0,
         0,
         1,
         1,
         0,
         0,
         1,
         0,
         0,
         0,
         1,
         0,
         1,
         0,
         0,
         1,
         0,
         0,
         0,
         1,
         0,
         0,
         0,
         0,
         1,
         0,
         1,
         0,
         1,
         0,
         1,
         0,
         1,
         0,
         1,
         1,
         0,
         0,
         1,
         1,
         1,
         0,
         1,
         1,
         1,
         1,
         0,
         1,
         0,
         0,
         0,
         1,
         1,
         0,
         0,
         0,
         1,
         1,
         0,
         0,
         1,
         1,
         1
        ],
        [
         0,
         0,
         0,
         1,
         0,
         0,
         0,
         0,
         0,
         0,
         0,
         1,
         0,
         0,
         0,
         0,
         0,
         0,
         0,
         0,
         0,
         1,
         1,
         0,
         1,
         1,
         1,
         0,
         0,
         0,
         1,
         0,
         0,
         0,
         1,
         0,
         1,
         1,
         0,
         0,
         0,
         0,
         0,
         0,
         1,
         1,
         0,
         0,
         1,
         0,
         1,
         0,
         0,
         1,
         1,
         0,
         0,
         0,
         0,
         0,
         1,
         1,
         0,
         0,
         0,
         0,
         0,
         0,
         0,
         0,
         1,
         0,
         0,
         1,
         0,
         0,
         0,
         0,
         1,
         1,
         0,
         1,
         0,
         1,
         1,
         1,
         1,
         1,
         0,
         0,
         0,
         1,
         1,
         0,
         0,
         0,
         1,
         0,
         0,
         0,
         1,
         0,
         1,
         0,
         0,
         0,
         0,
         1,
         0,
         1,
         0,
         0,
         1,
         0,
         0,
         0,
         0,
         0,
         0,
         1,
         1,
         0,
         0,
         0,
         0,
         1,
         0,
         0,
         1,
         0,
         1,
         0,
         1,
         1,
         1,
         0,
         0,
         0,
         0,
         1,
         0,
         1,
         0,
         0,
         0,
         0,
         0,
         0,
         0,
         0,
         0,
         0,
         0,
         0,
         0,
         0,
         0,
         1,
         0,
         1,
         1,
         0,
         0,
         1,
         0,
         0,
         0,
         0,
         0,
         1,
         0,
         0,
         0,
         1,
         1,
         1,
         0,
         1,
         0,
         0,
         0,
         0,
         0,
         1,
         0,
         1,
         1,
         1,
         0,
         1,
         0,
         1,
         0,
         1,
         1,
         0,
         0,
         0,
         1,
         1,
         0,
         1,
         0,
         0,
         0,
         1,
         1,
         1,
         0,
         0,
         0,
         1,
         0,
         0,
         1,
         1,
         1,
         0,
         1,
         1,
         0,
         0,
         0,
         0,
         0,
         0,
         1,
         0,
         0,
         1,
         1,
         0,
         0,
         0,
         0,
         0,
         1,
         0,
         0,
         0,
         1,
         0,
         0,
         0,
         0,
         0,
         0,
         1,
         0,
         1,
         0,
         0,
         1,
         0,
         0,
         1,
         0,
         0,
         0,
         0,
         0,
         1,
         0,
         1,
         0,
         0,
         0,
         0,
         0,
         1,
         0,
         1,
         1,
         0,
         0,
         0,
         1,
         1,
         0,
         0,
         0,
         1,
         1,
         0,
         1,
         0,
         0,
         0,
         0,
         1,
         0,
         0,
         0,
         0,
         0,
         1,
         0,
         1,
         1,
         1
        ]
       ],
       "probability_methods": [
        "auc",
        "root_mean_squared_error",
        "balanced_root_mean_squared_error",
        "mean_squared_error",
        "mean_absolute_error",
        "log_loss"
       ],
       "regression_methods": [
        "root_mean_squared_error",
        "mean_squared_error",
        "mean_absolute_error",
        "r2_score"
       ],
       "true_y": [
        1,
        0,
        0,
        1,
        0,
        0,
        0,
        1,
        0,
        0,
        0,
        1,
        0,
        0,
        0,
        0,
        1,
        0,
        1,
        0,
        0,
        0,
        1,
        0,
        0,
        1,
        0,
        0,
        1,
        0,
        1,
        0,
        0,
        0,
        1,
        0,
        0,
        1,
        0,
        0,
        0,
        0,
        0,
        1,
        1,
        1,
        0,
        0,
        0,
        0,
        0,
        0,
        0,
        0,
        0,
        0,
        0,
        0,
        0,
        0,
        0,
        1,
        1,
        0,
        0,
        0,
        0,
        1,
        0,
        0,
        0,
        0,
        0,
        1,
        0,
        0,
        0,
        0,
        1,
        1,
        0,
        0,
        0,
        0,
        1,
        1,
        0,
        1,
        1,
        0,
        0,
        1,
        1,
        0,
        1,
        0,
        0,
        0,
        1,
        0,
        1,
        0,
        0,
        0,
        0,
        0,
        0,
        1,
        0,
        1,
        0,
        0,
        0,
        0,
        0,
        0,
        0,
        0,
        0,
        0,
        1,
        0,
        1,
        0,
        0,
        0,
        1,
        0,
        1,
        0,
        1,
        0,
        1,
        1,
        0,
        1,
        0,
        0,
        0,
        0,
        0,
        0,
        0,
        0,
        0,
        0,
        1,
        0,
        0,
        1,
        0,
        0,
        0,
        0,
        1,
        0,
        0,
        1,
        1,
        1,
        1,
        0,
        0,
        1,
        0,
        0,
        1,
        0,
        0,
        1,
        0,
        0,
        0,
        1,
        1,
        0,
        0,
        0,
        0,
        0,
        0,
        0,
        0,
        1,
        1,
        1,
        1,
        0,
        0,
        1,
        0,
        0,
        0,
        1,
        0,
        0,
        0,
        0,
        1,
        1,
        0,
        0,
        0,
        1,
        0,
        0,
        1,
        0,
        0,
        0,
        0,
        0,
        0,
        0,
        1,
        0,
        1,
        1,
        1,
        0,
        1,
        0,
        0,
        0,
        0,
        0,
        0,
        0,
        0,
        0,
        1,
        0,
        0,
        1,
        0,
        1,
        0,
        0,
        0,
        1,
        1,
        0,
        0,
        0,
        0,
        0,
        0,
        1,
        0,
        0,
        0,
        0,
        0,
        0,
        1,
        0,
        1,
        1,
        0,
        0,
        0,
        1,
        0,
        0,
        0,
        0,
        0,
        0,
        0,
        1,
        0,
        0,
        1,
        1,
        1,
        0,
        1,
        1,
        0,
        1,
        1,
        1,
        0,
        0,
        1,
        0,
        0,
        0,
        1,
        1,
        0,
        0,
        0,
        0,
        0,
        0,
        0,
        1,
        0,
        0
       ]
      }
     }
    },
    "24133a4b9bf041d1a9c6debab8feef47": {
     "model_module": "fairlearn-widget",
     "model_module_version": "^0.1.1",
     "model_name": "FairlearnModel",
     "state": {
      "_dom_classes": [],
      "_model_module": "fairlearn-widget",
      "_model_module_version": "^0.1.1",
      "_model_name": "FairlearnModel",
      "_view_count": null,
      "_view_module": "fairlearn-widget",
      "_view_module_version": "^0.1.1",
      "_view_name": "FairlearnView",
      "layout": "IPY_MODEL_3e6d73f2090f4a6eba724c156f9d044a",
      "request": {},
      "response": {},
      "value": {
       "classification_methods": [
        "accuracy_score",
        "balanced_accuracy_score",
        "precision_score",
        "recall_score",
        "f1_score"
       ],
       "dataset": [
        [
         "unskilled - resident"
        ],
        [
         "skilled employee / official"
        ],
        [
         "unskilled - resident"
        ],
        [
         "unskilled - resident"
        ],
        [
         "unskilled - resident"
        ],
        [
         "unskilled - resident"
        ],
        [
         "unskilled - resident"
        ],
        [
         "skilled employee / official"
        ],
        [
         "unskilled - resident"
        ],
        [
         "management/ self-employed/ highly qualified employee/ officer"
        ],
        [
         "skilled employee / official"
        ],
        [
         "management/ self-employed/ highly qualified employee/ officer"
        ],
        [
         "skilled employee / official"
        ],
        [
         "skilled employee / official"
        ],
        [
         "unskilled - resident"
        ],
        [
         "management/ self-employed/ highly qualified employee/ officer"
        ],
        [
         "skilled employee / official"
        ],
        [
         "skilled employee / official"
        ],
        [
         "skilled employee / official"
        ],
        [
         "skilled employee / official"
        ],
        [
         "management/ self-employed/ highly qualified employee/ officer"
        ],
        [
         "unskilled - resident"
        ],
        [
         "skilled employee / official"
        ],
        [
         "unskilled - resident"
        ],
        [
         "skilled employee / official"
        ],
        [
         "management/ self-employed/ highly qualified employee/ officer"
        ],
        [
         "unskilled - resident"
        ],
        [
         "skilled employee / official"
        ],
        [
         "management/ self-employed/ highly qualified employee/ officer"
        ],
        [
         "skilled employee / official"
        ],
        [
         "skilled employee / official"
        ],
        [
         "skilled employee / official"
        ],
        [
         "skilled employee / official"
        ],
        [
         "skilled employee / official"
        ],
        [
         "skilled employee / official"
        ],
        [
         "skilled employee / official"
        ],
        [
         "skilled employee / official"
        ],
        [
         "skilled employee / official"
        ],
        [
         "skilled employee / official"
        ],
        [
         "skilled employee / official"
        ],
        [
         "skilled employee / official"
        ],
        [
         "unskilled - resident"
        ],
        [
         "unskilled - resident"
        ],
        [
         "management/ self-employed/ highly qualified employee/ officer"
        ],
        [
         "management/ self-employed/ highly qualified employee/ officer"
        ],
        [
         "management/ self-employed/ highly qualified employee/ officer"
        ],
        [
         "skilled employee / official"
        ],
        [
         "unskilled - resident"
        ],
        [
         "skilled employee / official"
        ],
        [
         "skilled employee / official"
        ],
        [
         "skilled employee / official"
        ],
        [
         "skilled employee / official"
        ],
        [
         "skilled employee / official"
        ],
        [
         "skilled employee / official"
        ],
        [
         "skilled employee / official"
        ],
        [
         "unskilled - resident"
        ],
        [
         "skilled employee / official"
        ],
        [
         "management/ self-employed/ highly qualified employee/ officer"
        ],
        [
         "skilled employee / official"
        ],
        [
         "unskilled - resident"
        ],
        [
         "skilled employee / official"
        ],
        [
         "skilled employee / official"
        ],
        [
         "unemployed/ unskilled  - non-resident"
        ],
        [
         "skilled employee / official"
        ],
        [
         "skilled employee / official"
        ],
        [
         "management/ self-employed/ highly qualified employee/ officer"
        ],
        [
         "skilled employee / official"
        ],
        [
         "management/ self-employed/ highly qualified employee/ officer"
        ],
        [
         "unskilled - resident"
        ],
        [
         "unskilled - resident"
        ],
        [
         "unskilled - resident"
        ],
        [
         "skilled employee / official"
        ],
        [
         "skilled employee / official"
        ],
        [
         "skilled employee / official"
        ],
        [
         "management/ self-employed/ highly qualified employee/ officer"
        ],
        [
         "skilled employee / official"
        ],
        [
         "skilled employee / official"
        ],
        [
         "unskilled - resident"
        ],
        [
         "management/ self-employed/ highly qualified employee/ officer"
        ],
        [
         "skilled employee / official"
        ],
        [
         "management/ self-employed/ highly qualified employee/ officer"
        ],
        [
         "skilled employee / official"
        ],
        [
         "management/ self-employed/ highly qualified employee/ officer"
        ],
        [
         "skilled employee / official"
        ],
        [
         "skilled employee / official"
        ],
        [
         "skilled employee / official"
        ],
        [
         "unskilled - resident"
        ],
        [
         "skilled employee / official"
        ],
        [
         "skilled employee / official"
        ],
        [
         "unemployed/ unskilled  - non-resident"
        ],
        [
         "unskilled - resident"
        ],
        [
         "management/ self-employed/ highly qualified employee/ officer"
        ],
        [
         "skilled employee / official"
        ],
        [
         "skilled employee / official"
        ],
        [
         "skilled employee / official"
        ],
        [
         "skilled employee / official"
        ],
        [
         "skilled employee / official"
        ],
        [
         "skilled employee / official"
        ],
        [
         "unskilled - resident"
        ],
        [
         "skilled employee / official"
        ],
        [
         "skilled employee / official"
        ],
        [
         "skilled employee / official"
        ],
        [
         "unemployed/ unskilled  - non-resident"
        ],
        [
         "skilled employee / official"
        ],
        [
         "unskilled - resident"
        ],
        [
         "skilled employee / official"
        ],
        [
         "unskilled - resident"
        ],
        [
         "skilled employee / official"
        ],
        [
         "unskilled - resident"
        ],
        [
         "unskilled - resident"
        ],
        [
         "skilled employee / official"
        ],
        [
         "skilled employee / official"
        ],
        [
         "unskilled - resident"
        ],
        [
         "skilled employee / official"
        ],
        [
         "skilled employee / official"
        ],
        [
         "skilled employee / official"
        ],
        [
         "skilled employee / official"
        ],
        [
         "unskilled - resident"
        ],
        [
         "management/ self-employed/ highly qualified employee/ officer"
        ],
        [
         "unskilled - resident"
        ],
        [
         "skilled employee / official"
        ],
        [
         "skilled employee / official"
        ],
        [
         "management/ self-employed/ highly qualified employee/ officer"
        ],
        [
         "skilled employee / official"
        ],
        [
         "unskilled - resident"
        ],
        [
         "skilled employee / official"
        ],
        [
         "skilled employee / official"
        ],
        [
         "skilled employee / official"
        ],
        [
         "unskilled - resident"
        ],
        [
         "skilled employee / official"
        ],
        [
         "skilled employee / official"
        ],
        [
         "unskilled - resident"
        ],
        [
         "skilled employee / official"
        ],
        [
         "skilled employee / official"
        ],
        [
         "unskilled - resident"
        ],
        [
         "skilled employee / official"
        ],
        [
         "skilled employee / official"
        ],
        [
         "skilled employee / official"
        ],
        [
         "skilled employee / official"
        ],
        [
         "skilled employee / official"
        ],
        [
         "skilled employee / official"
        ],
        [
         "management/ self-employed/ highly qualified employee/ officer"
        ],
        [
         "management/ self-employed/ highly qualified employee/ officer"
        ],
        [
         "skilled employee / official"
        ],
        [
         "skilled employee / official"
        ],
        [
         "skilled employee / official"
        ],
        [
         "unskilled - resident"
        ],
        [
         "skilled employee / official"
        ],
        [
         "skilled employee / official"
        ],
        [
         "skilled employee / official"
        ],
        [
         "skilled employee / official"
        ],
        [
         "unskilled - resident"
        ],
        [
         "unskilled - resident"
        ],
        [
         "skilled employee / official"
        ],
        [
         "skilled employee / official"
        ],
        [
         "management/ self-employed/ highly qualified employee/ officer"
        ],
        [
         "skilled employee / official"
        ],
        [
         "management/ self-employed/ highly qualified employee/ officer"
        ],
        [
         "skilled employee / official"
        ],
        [
         "skilled employee / official"
        ],
        [
         "skilled employee / official"
        ],
        [
         "skilled employee / official"
        ],
        [
         "skilled employee / official"
        ],
        [
         "unskilled - resident"
        ],
        [
         "skilled employee / official"
        ],
        [
         "skilled employee / official"
        ],
        [
         "skilled employee / official"
        ],
        [
         "skilled employee / official"
        ],
        [
         "management/ self-employed/ highly qualified employee/ officer"
        ],
        [
         "skilled employee / official"
        ],
        [
         "skilled employee / official"
        ],
        [
         "skilled employee / official"
        ],
        [
         "skilled employee / official"
        ],
        [
         "management/ self-employed/ highly qualified employee/ officer"
        ],
        [
         "management/ self-employed/ highly qualified employee/ officer"
        ],
        [
         "management/ self-employed/ highly qualified employee/ officer"
        ],
        [
         "unskilled - resident"
        ],
        [
         "skilled employee / official"
        ],
        [
         "management/ self-employed/ highly qualified employee/ officer"
        ],
        [
         "unskilled - resident"
        ],
        [
         "skilled employee / official"
        ],
        [
         "skilled employee / official"
        ],
        [
         "skilled employee / official"
        ],
        [
         "skilled employee / official"
        ],
        [
         "unskilled - resident"
        ],
        [
         "management/ self-employed/ highly qualified employee/ officer"
        ],
        [
         "skilled employee / official"
        ],
        [
         "unskilled - resident"
        ],
        [
         "unskilled - resident"
        ],
        [
         "management/ self-employed/ highly qualified employee/ officer"
        ],
        [
         "skilled employee / official"
        ],
        [
         "skilled employee / official"
        ],
        [
         "skilled employee / official"
        ],
        [
         "skilled employee / official"
        ],
        [
         "management/ self-employed/ highly qualified employee/ officer"
        ],
        [
         "skilled employee / official"
        ],
        [
         "unskilled - resident"
        ],
        [
         "management/ self-employed/ highly qualified employee/ officer"
        ],
        [
         "skilled employee / official"
        ],
        [
         "management/ self-employed/ highly qualified employee/ officer"
        ],
        [
         "skilled employee / official"
        ],
        [
         "skilled employee / official"
        ],
        [
         "unskilled - resident"
        ],
        [
         "management/ self-employed/ highly qualified employee/ officer"
        ],
        [
         "skilled employee / official"
        ],
        [
         "management/ self-employed/ highly qualified employee/ officer"
        ],
        [
         "management/ self-employed/ highly qualified employee/ officer"
        ],
        [
         "skilled employee / official"
        ],
        [
         "unskilled - resident"
        ],
        [
         "unskilled - resident"
        ],
        [
         "skilled employee / official"
        ],
        [
         "unskilled - resident"
        ],
        [
         "management/ self-employed/ highly qualified employee/ officer"
        ],
        [
         "unskilled - resident"
        ],
        [
         "skilled employee / official"
        ],
        [
         "skilled employee / official"
        ],
        [
         "unskilled - resident"
        ],
        [
         "skilled employee / official"
        ],
        [
         "skilled employee / official"
        ],
        [
         "skilled employee / official"
        ],
        [
         "skilled employee / official"
        ],
        [
         "skilled employee / official"
        ],
        [
         "management/ self-employed/ highly qualified employee/ officer"
        ],
        [
         "unskilled - resident"
        ],
        [
         "skilled employee / official"
        ],
        [
         "skilled employee / official"
        ],
        [
         "skilled employee / official"
        ],
        [
         "skilled employee / official"
        ],
        [
         "skilled employee / official"
        ],
        [
         "unskilled - resident"
        ],
        [
         "unskilled - resident"
        ],
        [
         "skilled employee / official"
        ],
        [
         "skilled employee / official"
        ],
        [
         "skilled employee / official"
        ],
        [
         "skilled employee / official"
        ],
        [
         "management/ self-employed/ highly qualified employee/ officer"
        ],
        [
         "unskilled - resident"
        ],
        [
         "unemployed/ unskilled  - non-resident"
        ],
        [
         "unskilled - resident"
        ],
        [
         "management/ self-employed/ highly qualified employee/ officer"
        ],
        [
         "unskilled - resident"
        ],
        [
         "skilled employee / official"
        ],
        [
         "skilled employee / official"
        ],
        [
         "management/ self-employed/ highly qualified employee/ officer"
        ],
        [
         "skilled employee / official"
        ],
        [
         "skilled employee / official"
        ],
        [
         "unskilled - resident"
        ],
        [
         "management/ self-employed/ highly qualified employee/ officer"
        ],
        [
         "management/ self-employed/ highly qualified employee/ officer"
        ],
        [
         "management/ self-employed/ highly qualified employee/ officer"
        ],
        [
         "skilled employee / official"
        ],
        [
         "unskilled - resident"
        ],
        [
         "management/ self-employed/ highly qualified employee/ officer"
        ],
        [
         "management/ self-employed/ highly qualified employee/ officer"
        ],
        [
         "unemployed/ unskilled  - non-resident"
        ],
        [
         "unemployed/ unskilled  - non-resident"
        ],
        [
         "skilled employee / official"
        ],
        [
         "unskilled - resident"
        ],
        [
         "management/ self-employed/ highly qualified employee/ officer"
        ],
        [
         "unskilled - resident"
        ],
        [
         "skilled employee / official"
        ],
        [
         "skilled employee / official"
        ],
        [
         "skilled employee / official"
        ],
        [
         "skilled employee / official"
        ],
        [
         "skilled employee / official"
        ],
        [
         "skilled employee / official"
        ],
        [
         "unskilled - resident"
        ],
        [
         "management/ self-employed/ highly qualified employee/ officer"
        ],
        [
         "skilled employee / official"
        ],
        [
         "unskilled - resident"
        ],
        [
         "skilled employee / official"
        ],
        [
         "unskilled - resident"
        ],
        [
         "skilled employee / official"
        ],
        [
         "unskilled - resident"
        ],
        [
         "skilled employee / official"
        ],
        [
         "management/ self-employed/ highly qualified employee/ officer"
        ],
        [
         "skilled employee / official"
        ],
        [
         "skilled employee / official"
        ],
        [
         "skilled employee / official"
        ],
        [
         "skilled employee / official"
        ],
        [
         "skilled employee / official"
        ],
        [
         "skilled employee / official"
        ],
        [
         "skilled employee / official"
        ],
        [
         "unskilled - resident"
        ],
        [
         "skilled employee / official"
        ],
        [
         "skilled employee / official"
        ],
        [
         "skilled employee / official"
        ],
        [
         "unemployed/ unskilled  - non-resident"
        ],
        [
         "management/ self-employed/ highly qualified employee/ officer"
        ],
        [
         "skilled employee / official"
        ],
        [
         "management/ self-employed/ highly qualified employee/ officer"
        ],
        [
         "management/ self-employed/ highly qualified employee/ officer"
        ],
        [
         "skilled employee / official"
        ],
        [
         "skilled employee / official"
        ],
        [
         "unemployed/ unskilled  - non-resident"
        ],
        [
         "skilled employee / official"
        ],
        [
         "skilled employee / official"
        ],
        [
         "skilled employee / official"
        ],
        [
         "skilled employee / official"
        ],
        [
         "unskilled - resident"
        ]
       ],
       "features": [
        "HOUSING"
       ],
       "model_names": [
        "Unmitigated",
        "ThresholdOptimizer"
       ],
       "predicted_ys": [
        [
         0,
         0,
         0,
         0,
         0,
         0,
         1,
         1,
         0,
         0,
         0,
         1,
         0,
         0,
         0,
         0,
         1,
         0,
         0,
         0,
         0,
         1,
         1,
         0,
         1,
         1,
         1,
         0,
         1,
         0,
         1,
         0,
         0,
         0,
         1,
         0,
         0,
         1,
         0,
         0,
         0,
         0,
         0,
         0,
         1,
         0,
         0,
         0,
         0,
         1,
         1,
         0,
         1,
         0,
         1,
         0,
         0,
         0,
         0,
         1,
         1,
         1,
         0,
         0,
         0,
         0,
         0,
         1,
         0,
         1,
         0,
         0,
         0,
         1,
         0,
         0,
         0,
         0,
         1,
         1,
         1,
         1,
         0,
         1,
         1,
         1,
         0,
         1,
         1,
         0,
         0,
         1,
         1,
         0,
         0,
         1,
         0,
         0,
         0,
         0,
         1,
         0,
         0,
         0,
         1,
         0,
         0,
         1,
         0,
         1,
         1,
         0,
         1,
         0,
         1,
         0,
         0,
         0,
         0,
         0,
         1,
         0,
         0,
         0,
         0,
         0,
         1,
         0,
         1,
         0,
         1,
         0,
         0,
         1,
         1,
         1,
         0,
         0,
         0,
         1,
         0,
         1,
         0,
         0,
         0,
         0,
         0,
         0,
         0,
         1,
         0,
         0,
         0,
         0,
         1,
         0,
         0,
         1,
         1,
         1,
         1,
         0,
         0,
         1,
         1,
         0,
         0,
         0,
         0,
         1,
         0,
         0,
         0,
         1,
         1,
         1,
         0,
         1,
         0,
         0,
         0,
         0,
         0,
         1,
         0,
         1,
         1,
         1,
         0,
         1,
         0,
         0,
         1,
         1,
         1,
         0,
         0,
         0,
         1,
         1,
         0,
         1,
         0,
         1,
         0,
         1,
         1,
         1,
         0,
         0,
         0,
         1,
         0,
         0,
         1,
         0,
         1,
         0,
         1,
         1,
         0,
         0,
         0,
         0,
         0,
         0,
         1,
         0,
         0,
         0,
         1,
         0,
         0,
         1,
         0,
         1,
         0,
         0,
         0,
         1,
         1,
         0,
         0,
         1,
         0,
         0,
         0,
         1,
         0,
         1,
         0,
         0,
         1,
         0,
         0,
         0,
         1,
         0,
         0,
         0,
         0,
         1,
         0,
         1,
         0,
         1,
         0,
         1,
         0,
         1,
         0,
         1,
         1,
         0,
         0,
         1,
         1,
         1,
         0,
         1,
         1,
         1,
         1,
         0,
         1,
         0,
         0,
         0,
         1,
         1,
         0,
         0,
         0,
         1,
         1,
         0,
         0,
         1,
         1,
         1
        ],
        [
         0,
         0,
         0,
         1,
         0,
         0,
         0,
         0,
         0,
         0,
         0,
         1,
         0,
         0,
         0,
         0,
         0,
         0,
         0,
         0,
         0,
         1,
         1,
         0,
         1,
         1,
         1,
         0,
         0,
         0,
         1,
         0,
         0,
         0,
         1,
         0,
         1,
         1,
         0,
         0,
         0,
         0,
         0,
         0,
         1,
         1,
         0,
         0,
         1,
         0,
         1,
         0,
         0,
         1,
         1,
         0,
         0,
         0,
         0,
         0,
         1,
         1,
         0,
         0,
         0,
         0,
         0,
         0,
         0,
         0,
         1,
         0,
         0,
         1,
         0,
         0,
         0,
         0,
         1,
         1,
         0,
         1,
         0,
         1,
         1,
         1,
         1,
         1,
         0,
         0,
         0,
         1,
         1,
         0,
         0,
         0,
         1,
         0,
         0,
         0,
         1,
         0,
         1,
         0,
         0,
         0,
         0,
         1,
         0,
         1,
         0,
         0,
         1,
         0,
         0,
         0,
         0,
         0,
         0,
         1,
         1,
         0,
         0,
         0,
         0,
         1,
         0,
         0,
         1,
         0,
         1,
         0,
         1,
         1,
         1,
         0,
         0,
         0,
         0,
         1,
         0,
         1,
         0,
         0,
         0,
         0,
         0,
         0,
         0,
         0,
         0,
         0,
         0,
         0,
         0,
         0,
         0,
         1,
         0,
         1,
         1,
         0,
         0,
         1,
         0,
         0,
         0,
         0,
         0,
         1,
         0,
         0,
         0,
         1,
         1,
         1,
         0,
         1,
         0,
         0,
         0,
         0,
         0,
         1,
         0,
         1,
         1,
         1,
         0,
         1,
         0,
         1,
         0,
         1,
         1,
         0,
         0,
         0,
         1,
         1,
         0,
         1,
         0,
         0,
         0,
         1,
         1,
         1,
         0,
         0,
         0,
         1,
         0,
         0,
         1,
         1,
         1,
         0,
         1,
         1,
         0,
         0,
         0,
         0,
         0,
         0,
         1,
         0,
         0,
         1,
         1,
         0,
         0,
         0,
         0,
         0,
         1,
         0,
         0,
         0,
         1,
         0,
         0,
         0,
         0,
         0,
         0,
         1,
         0,
         1,
         0,
         0,
         1,
         0,
         0,
         1,
         0,
         0,
         0,
         0,
         0,
         1,
         0,
         1,
         0,
         0,
         0,
         0,
         0,
         1,
         0,
         1,
         1,
         0,
         0,
         0,
         1,
         1,
         0,
         0,
         0,
         1,
         1,
         0,
         1,
         0,
         0,
         0,
         0,
         1,
         0,
         0,
         0,
         0,
         0,
         1,
         0,
         1,
         1,
         1
        ]
       ],
       "probability_methods": [
        "auc",
        "root_mean_squared_error",
        "balanced_root_mean_squared_error",
        "mean_squared_error",
        "mean_absolute_error",
        "log_loss"
       ],
       "regression_methods": [
        "root_mean_squared_error",
        "mean_squared_error",
        "mean_absolute_error",
        "r2_score"
       ],
       "true_y": [
        1,
        0,
        0,
        1,
        0,
        0,
        0,
        1,
        0,
        0,
        0,
        1,
        0,
        0,
        0,
        0,
        1,
        0,
        1,
        0,
        0,
        0,
        1,
        0,
        0,
        1,
        0,
        0,
        1,
        0,
        1,
        0,
        0,
        0,
        1,
        0,
        0,
        1,
        0,
        0,
        0,
        0,
        0,
        1,
        1,
        1,
        0,
        0,
        0,
        0,
        0,
        0,
        0,
        0,
        0,
        0,
        0,
        0,
        0,
        0,
        0,
        1,
        1,
        0,
        0,
        0,
        0,
        1,
        0,
        0,
        0,
        0,
        0,
        1,
        0,
        0,
        0,
        0,
        1,
        1,
        0,
        0,
        0,
        0,
        1,
        1,
        0,
        1,
        1,
        0,
        0,
        1,
        1,
        0,
        1,
        0,
        0,
        0,
        1,
        0,
        1,
        0,
        0,
        0,
        0,
        0,
        0,
        1,
        0,
        1,
        0,
        0,
        0,
        0,
        0,
        0,
        0,
        0,
        0,
        0,
        1,
        0,
        1,
        0,
        0,
        0,
        1,
        0,
        1,
        0,
        1,
        0,
        1,
        1,
        0,
        1,
        0,
        0,
        0,
        0,
        0,
        0,
        0,
        0,
        0,
        0,
        1,
        0,
        0,
        1,
        0,
        0,
        0,
        0,
        1,
        0,
        0,
        1,
        1,
        1,
        1,
        0,
        0,
        1,
        0,
        0,
        1,
        0,
        0,
        1,
        0,
        0,
        0,
        1,
        1,
        0,
        0,
        0,
        0,
        0,
        0,
        0,
        0,
        1,
        1,
        1,
        1,
        0,
        0,
        1,
        0,
        0,
        0,
        1,
        0,
        0,
        0,
        0,
        1,
        1,
        0,
        0,
        0,
        1,
        0,
        0,
        1,
        0,
        0,
        0,
        0,
        0,
        0,
        0,
        1,
        0,
        1,
        1,
        1,
        0,
        1,
        0,
        0,
        0,
        0,
        0,
        0,
        0,
        0,
        0,
        1,
        0,
        0,
        1,
        0,
        1,
        0,
        0,
        0,
        1,
        1,
        0,
        0,
        0,
        0,
        0,
        0,
        1,
        0,
        0,
        0,
        0,
        0,
        0,
        1,
        0,
        1,
        1,
        0,
        0,
        0,
        1,
        0,
        0,
        0,
        0,
        0,
        0,
        0,
        1,
        0,
        0,
        1,
        1,
        1,
        0,
        1,
        1,
        0,
        1,
        1,
        1,
        0,
        0,
        1,
        0,
        0,
        0,
        1,
        1,
        0,
        0,
        0,
        0,
        0,
        0,
        0,
        1,
        0,
        0
       ]
      }
     }
    },
    "278c86298b3d4fa38345aa2d790085d2": {
     "model_module": "fairlearn-widget",
     "model_module_version": "^0.1.1",
     "model_name": "FairlearnModel",
     "state": {
      "_dom_classes": [],
      "_model_module": "fairlearn-widget",
      "_model_module_version": "^0.1.1",
      "_model_name": "FairlearnModel",
      "_view_count": null,
      "_view_module": "fairlearn-widget",
      "_view_module_version": "^0.1.1",
      "_view_name": "FairlearnView",
      "layout": "IPY_MODEL_2486777d56f544b88bb8438af09b4341",
      "request": {},
      "response": {},
      "value": {
       "classification_methods": [
        "accuracy_score",
        "balanced_accuracy_score",
        "precision_score",
        "recall_score",
        "f1_score"
       ],
       "dataset": [
        [
         "own"
        ],
        [
         "own"
        ],
        [
         "own"
        ],
        [
         "own"
        ],
        [
         "own"
        ],
        [
         "own"
        ],
        [
         "own"
        ],
        [
         "own"
        ],
        [
         "own"
        ],
        [
         "own"
        ],
        [
         "for_free"
        ],
        [
         "own"
        ],
        [
         "own"
        ],
        [
         "own"
        ],
        [
         "rent"
        ],
        [
         "rent"
        ],
        [
         "own"
        ],
        [
         "own"
        ],
        [
         "rent"
        ],
        [
         "own"
        ],
        [
         "own"
        ],
        [
         "own"
        ],
        [
         "for_free"
        ],
        [
         "own"
        ],
        [
         "own"
        ],
        [
         "for_free"
        ],
        [
         "own"
        ],
        [
         "own"
        ],
        [
         "own"
        ],
        [
         "rent"
        ],
        [
         "rent"
        ],
        [
         "own"
        ],
        [
         "own"
        ],
        [
         "own"
        ],
        [
         "rent"
        ],
        [
         "own"
        ],
        [
         "own"
        ],
        [
         "for_free"
        ],
        [
         "own"
        ],
        [
         "own"
        ],
        [
         "own"
        ],
        [
         "own"
        ],
        [
         "for_free"
        ],
        [
         "own"
        ],
        [
         "own"
        ],
        [
         "own"
        ],
        [
         "own"
        ],
        [
         "own"
        ],
        [
         "own"
        ],
        [
         "for_free"
        ],
        [
         "for_free"
        ],
        [
         "own"
        ],
        [
         "own"
        ],
        [
         "rent"
        ],
        [
         "own"
        ],
        [
         "rent"
        ],
        [
         "own"
        ],
        [
         "for_free"
        ],
        [
         "rent"
        ],
        [
         "own"
        ],
        [
         "rent"
        ],
        [
         "rent"
        ],
        [
         "own"
        ],
        [
         "own"
        ],
        [
         "rent"
        ],
        [
         "for_free"
        ],
        [
         "for_free"
        ],
        [
         "for_free"
        ],
        [
         "own"
        ],
        [
         "own"
        ],
        [
         "own"
        ],
        [
         "own"
        ],
        [
         "rent"
        ],
        [
         "own"
        ],
        [
         "own"
        ],
        [
         "own"
        ],
        [
         "own"
        ],
        [
         "own"
        ],
        [
         "own"
        ],
        [
         "own"
        ],
        [
         "own"
        ],
        [
         "own"
        ],
        [
         "rent"
        ],
        [
         "own"
        ],
        [
         "rent"
        ],
        [
         "own"
        ],
        [
         "own"
        ],
        [
         "own"
        ],
        [
         "for_free"
        ],
        [
         "own"
        ],
        [
         "rent"
        ],
        [
         "for_free"
        ],
        [
         "for_free"
        ],
        [
         "own"
        ],
        [
         "rent"
        ],
        [
         "own"
        ],
        [
         "own"
        ],
        [
         "for_free"
        ],
        [
         "own"
        ],
        [
         "own"
        ],
        [
         "rent"
        ],
        [
         "for_free"
        ],
        [
         "own"
        ],
        [
         "own"
        ],
        [
         "own"
        ],
        [
         "rent"
        ],
        [
         "own"
        ],
        [
         "for_free"
        ],
        [
         "own"
        ],
        [
         "rent"
        ],
        [
         "for_free"
        ],
        [
         "own"
        ],
        [
         "rent"
        ],
        [
         "own"
        ],
        [
         "own"
        ],
        [
         "own"
        ],
        [
         "rent"
        ],
        [
         "own"
        ],
        [
         "own"
        ],
        [
         "own"
        ],
        [
         "rent"
        ],
        [
         "for_free"
        ],
        [
         "own"
        ],
        [
         "own"
        ],
        [
         "own"
        ],
        [
         "own"
        ],
        [
         "own"
        ],
        [
         "own"
        ],
        [
         "for_free"
        ],
        [
         "own"
        ],
        [
         "own"
        ],
        [
         "own"
        ],
        [
         "own"
        ],
        [
         "own"
        ],
        [
         "for_free"
        ],
        [
         "own"
        ],
        [
         "own"
        ],
        [
         "own"
        ],
        [
         "for_free"
        ],
        [
         "own"
        ],
        [
         "own"
        ],
        [
         "own"
        ],
        [
         "own"
        ],
        [
         "own"
        ],
        [
         "own"
        ],
        [
         "own"
        ],
        [
         "own"
        ],
        [
         "own"
        ],
        [
         "own"
        ],
        [
         "own"
        ],
        [
         "own"
        ],
        [
         "rent"
        ],
        [
         "rent"
        ],
        [
         "own"
        ],
        [
         "own"
        ],
        [
         "own"
        ],
        [
         "own"
        ],
        [
         "own"
        ],
        [
         "own"
        ],
        [
         "rent"
        ],
        [
         "for_free"
        ],
        [
         "own"
        ],
        [
         "own"
        ],
        [
         "own"
        ],
        [
         "own"
        ],
        [
         "own"
        ],
        [
         "own"
        ],
        [
         "own"
        ],
        [
         "for_free"
        ],
        [
         "own"
        ],
        [
         "own"
        ],
        [
         "own"
        ],
        [
         "own"
        ],
        [
         "rent"
        ],
        [
         "own"
        ],
        [
         "for_free"
        ],
        [
         "own"
        ],
        [
         "rent"
        ],
        [
         "for_free"
        ],
        [
         "own"
        ],
        [
         "own"
        ],
        [
         "own"
        ],
        [
         "own"
        ],
        [
         "own"
        ],
        [
         "own"
        ],
        [
         "own"
        ],
        [
         "for_free"
        ],
        [
         "own"
        ],
        [
         "own"
        ],
        [
         "for_free"
        ],
        [
         "own"
        ],
        [
         "own"
        ],
        [
         "own"
        ],
        [
         "for_free"
        ],
        [
         "own"
        ],
        [
         "for_free"
        ],
        [
         "own"
        ],
        [
         "own"
        ],
        [
         "own"
        ],
        [
         "own"
        ],
        [
         "own"
        ],
        [
         "own"
        ],
        [
         "own"
        ],
        [
         "own"
        ],
        [
         "rent"
        ],
        [
         "rent"
        ],
        [
         "own"
        ],
        [
         "own"
        ],
        [
         "own"
        ],
        [
         "own"
        ],
        [
         "own"
        ],
        [
         "own"
        ],
        [
         "own"
        ],
        [
         "rent"
        ],
        [
         "own"
        ],
        [
         "own"
        ],
        [
         "own"
        ],
        [
         "rent"
        ],
        [
         "own"
        ],
        [
         "own"
        ],
        [
         "for_free"
        ],
        [
         "own"
        ],
        [
         "own"
        ],
        [
         "own"
        ],
        [
         "own"
        ],
        [
         "own"
        ],
        [
         "own"
        ],
        [
         "own"
        ],
        [
         "own"
        ],
        [
         "rent"
        ],
        [
         "own"
        ],
        [
         "own"
        ],
        [
         "rent"
        ],
        [
         "own"
        ],
        [
         "own"
        ],
        [
         "for_free"
        ],
        [
         "own"
        ],
        [
         "own"
        ],
        [
         "own"
        ],
        [
         "rent"
        ],
        [
         "own"
        ],
        [
         "own"
        ],
        [
         "own"
        ],
        [
         "own"
        ],
        [
         "own"
        ],
        [
         "own"
        ],
        [
         "own"
        ],
        [
         "own"
        ],
        [
         "rent"
        ],
        [
         "for_free"
        ],
        [
         "own"
        ],
        [
         "own"
        ],
        [
         "own"
        ],
        [
         "own"
        ],
        [
         "for_free"
        ],
        [
         "own"
        ],
        [
         "own"
        ],
        [
         "own"
        ],
        [
         "own"
        ],
        [
         "own"
        ],
        [
         "own"
        ],
        [
         "rent"
        ],
        [
         "own"
        ],
        [
         "own"
        ],
        [
         "own"
        ],
        [
         "own"
        ],
        [
         "own"
        ],
        [
         "rent"
        ],
        [
         "own"
        ],
        [
         "own"
        ],
        [
         "rent"
        ],
        [
         "own"
        ],
        [
         "rent"
        ],
        [
         "own"
        ],
        [
         "own"
        ],
        [
         "own"
        ],
        [
         "own"
        ],
        [
         "own"
        ],
        [
         "own"
        ],
        [
         "rent"
        ],
        [
         "rent"
        ],
        [
         "own"
        ],
        [
         "own"
        ],
        [
         "own"
        ],
        [
         "for_free"
        ],
        [
         "own"
        ],
        [
         "own"
        ],
        [
         "rent"
        ],
        [
         "rent"
        ],
        [
         "rent"
        ],
        [
         "rent"
        ],
        [
         "own"
        ],
        [
         "own"
        ],
        [
         "own"
        ],
        [
         "own"
        ],
        [
         "own"
        ],
        [
         "own"
        ],
        [
         "rent"
        ],
        [
         "own"
        ],
        [
         "rent"
        ]
       ],
       "features": [
        "HOUSING"
       ],
       "model_names": [
        "GridSearch_12",
        "GridSearch_16",
        "Unmitigated",
        "ThresholdOptimizer"
       ],
       "predicted_ys": [
        [
         0,
         1,
         1,
         1,
         1,
         1,
         0,
         0,
         0,
         1,
         0,
         0,
         1,
         1,
         1,
         0,
         0,
         0,
         1,
         1,
         0,
         1,
         1,
         1,
         0,
         0,
         1,
         1,
         0,
         1,
         1,
         1,
         1,
         1,
         0,
         1,
         0,
         1,
         0,
         1,
         1,
         1,
         0,
         0,
         0,
         0,
         0,
         0,
         1,
         1,
         0,
         1,
         0,
         1,
         0,
         0,
         1,
         0,
         0,
         0,
         1,
         1,
         0,
         1,
         1,
         1,
         0,
         1,
         1,
         1,
         1,
         1,
         0,
         0,
         0,
         1,
         1,
         1,
         0,
         0,
         0,
         0,
         0,
         0,
         1,
         0,
         1,
         1,
         1,
         0,
         1,
         0,
         0,
         1,
         0,
         1,
         1,
         0,
         1,
         0,
         0,
         1,
         0,
         0,
         0,
         1,
         1,
         0,
         1,
         0,
         0,
         1,
         1,
         1,
         0,
         1,
         1,
         1,
         0,
         0,
         1,
         0,
         0,
         0,
         1,
         1,
         0,
         1,
         1,
         1,
         1,
         0,
         0,
         0,
         1,
         0,
         0,
         1,
         1,
         0,
         0,
         1,
         1,
         0,
         1,
         1,
         0,
         1,
         1,
         0,
         1,
         1,
         0,
         1,
         0,
         1,
         1,
         1,
         0,
         0,
         1,
         0,
         1,
         0,
         0,
         1,
         1,
         1,
         0,
         1,
         0,
         0,
         1,
         1,
         0,
         1,
         0,
         1,
         1,
         1,
         1,
         1,
         0,
         0,
         0,
         0,
         1,
         0,
         1,
         0,
         1,
         1,
         0,
         1,
         1,
         0,
         1,
         1,
         1,
         0,
         1,
         1,
         1,
         0,
         0,
         1,
         0,
         0,
         0,
         1,
         1,
         0,
         1,
         1,
         0,
         1,
         0,
         0,
         1,
         0,
         1,
         0,
         0,
         1,
         1,
         1,
         1,
         1,
         1,
         0,
         0,
         0,
         1,
         0,
         1,
         0,
         1,
         1,
         1,
         0,
         1,
         1,
         1,
         0,
         1,
         1,
         1,
         1,
         1,
         0,
         1,
         1,
         1,
         0,
         0,
         1,
         0,
         0,
         1,
         1,
         1,
         0,
         1,
         0,
         1,
         1,
         1,
         1,
         1,
         0,
         0,
         1,
         1,
         0,
         1,
         0,
         0,
         0,
         0,
         1,
         0,
         0,
         0,
         1,
         0,
         1,
         1,
         0,
         0,
         0,
         1,
         1,
         1,
         0,
         1,
         0,
         1,
         1,
         0,
         0
        ],
        [
         1,
         0,
         1,
         1,
         0,
         0,
         0,
         1,
         0,
         0,
         0,
         1,
         0,
         0,
         0,
         0,
         1,
         0,
         0,
         0,
         0,
         0,
         0,
         1,
         1,
         1,
         1,
         0,
         1,
         0,
         0,
         0,
         0,
         0,
         1,
         0,
         1,
         0,
         0,
         0,
         0,
         0,
         0,
         0,
         1,
         0,
         1,
         0,
         1,
         1,
         0,
         0,
         1,
         1,
         1,
         0,
         0,
         1,
         0,
         0,
         1,
         1,
         1,
         0,
         0,
         0,
         1,
         0,
         0,
         0,
         1,
         0,
         0,
         1,
         0,
         0,
         1,
         0,
         1,
         1,
         0,
         1,
         0,
         1,
         1,
         1,
         0,
         1,
         0,
         1,
         0,
         1,
         1,
         0,
         1,
         1,
         0,
         0,
         1,
         0,
         0,
         0,
         1,
         0,
         0,
         0,
         0,
         0,
         0,
         0,
         1,
         0,
         0,
         0,
         1,
         0,
         0,
         0,
         0,
         0,
         0,
         1,
         0,
         0,
         0,
         0,
         1,
         0,
         1,
         0,
         1,
         0,
         1,
         1,
         0,
         1,
         0,
         0,
         0,
         1,
         0,
         1,
         0,
         0,
         0,
         0,
         1,
         0,
         0,
         1,
         0,
         0,
         0,
         0,
         1,
         0,
         0,
         1,
         1,
         1,
         0,
         0,
         0,
         1,
         1,
         0,
         0,
         0,
         0,
         1,
         0,
         1,
         0,
         0,
         1,
         1,
         0,
         0,
         0,
         0,
         0,
         0,
         0,
         1,
         1,
         1,
         1,
         1,
         0,
         0,
         0,
         1,
         1,
         1,
         1,
         0,
         0,
         0,
         0,
         1,
         1,
         1,
         0,
         0,
         0,
         1,
         1,
         0,
         0,
         0,
         0,
         0,
         0,
         1,
         1,
         1,
         1,
         1,
         1,
         0,
         0,
         0,
         0,
         0,
         0,
         0,
         1,
         1,
         0,
         1,
         1,
         0,
         0,
         1,
         0,
         1,
         0,
         0,
         1,
         1,
         1,
         0,
         0,
         1,
         0,
         0,
         0,
         1,
         0,
         0,
         0,
         0,
         0,
         0,
         1,
         0,
         1,
         1,
         0,
         1,
         0,
         1,
         0,
         1,
         0,
         1,
         0,
         0,
         0,
         1,
         0,
         1,
         1,
         1,
         0,
         1,
         1,
         1,
         0,
         0,
         1,
         1,
         1,
         1,
         1,
         0,
         0,
         0,
         0,
         1,
         0,
         0,
         0,
         1,
         0,
         0,
         0,
         0,
         1,
         1
        ],
        [
         1,
         0,
         1,
         0,
         0,
         0,
         0,
         1,
         0,
         0,
         0,
         1,
         0,
         0,
         0,
         0,
         1,
         0,
         0,
         0,
         0,
         0,
         1,
         1,
         1,
         1,
         1,
         0,
         1,
         0,
         0,
         0,
         0,
         0,
         1,
         0,
         0,
         0,
         0,
         0,
         0,
         0,
         0,
         0,
         1,
         0,
         1,
         1,
         1,
         1,
         1,
         0,
         1,
         1,
         0,
         0,
         0,
         1,
         0,
         0,
         1,
         1,
         1,
         0,
         0,
         0,
         1,
         0,
         0,
         1,
         1,
         0,
         0,
         1,
         0,
         0,
         1,
         0,
         1,
         1,
         1,
         1,
         0,
         1,
         0,
         1,
         0,
         1,
         1,
         1,
         0,
         1,
         0,
         0,
         1,
         1,
         0,
         0,
         0,
         0,
         0,
         0,
         1,
         0,
         0,
         0,
         0,
         0,
         0,
         0,
         1,
         0,
         0,
         0,
         1,
         0,
         0,
         0,
         0,
         0,
         0,
         1,
         0,
         0,
         0,
         0,
         1,
         0,
         1,
         0,
         0,
         0,
         1,
         1,
         0,
         1,
         0,
         0,
         1,
         1,
         0,
         1,
         0,
         0,
         0,
         0,
         1,
         0,
         0,
         1,
         0,
         0,
         0,
         0,
         1,
         0,
         0,
         1,
         1,
         1,
         1,
         0,
         0,
         1,
         1,
         0,
         0,
         0,
         1,
         1,
         0,
         0,
         0,
         0,
         1,
         1,
         0,
         0,
         0,
         0,
         0,
         0,
         0,
         1,
         1,
         1,
         1,
         1,
         0,
         0,
         0,
         0,
         1,
         1,
         1,
         0,
         0,
         1,
         0,
         1,
         1,
         1,
         0,
         0,
         0,
         0,
         1,
         0,
         0,
         0,
         0,
         1,
         0,
         0,
         1,
         0,
         1,
         1,
         1,
         1,
         0,
         0,
         0,
         0,
         0,
         0,
         1,
         0,
         0,
         0,
         1,
         0,
         0,
         1,
         0,
         1,
         0,
         0,
         1,
         1,
         1,
         0,
         0,
         1,
         0,
         0,
         0,
         1,
         0,
         0,
         0,
         0,
         0,
         0,
         1,
         0,
         1,
         1,
         0,
         1,
         0,
         1,
         0,
         1,
         0,
         1,
         0,
         0,
         0,
         1,
         0,
         1,
         1,
         1,
         0,
         1,
         1,
         1,
         0,
         0,
         1,
         1,
         1,
         0,
         1,
         0,
         0,
         0,
         0,
         1,
         0,
         0,
         0,
         1,
         0,
         1,
         0,
         1,
         1,
         1
        ],
        [
         1,
         0,
         0,
         0,
         0,
         0,
         0,
         1,
         0,
         0,
         0,
         1,
         0,
         0,
         0,
         0,
         1,
         0,
         0,
         1,
         0,
         0,
         0,
         0,
         1,
         0,
         1,
         0,
         1,
         0,
         0,
         0,
         0,
         1,
         1,
         0,
         1,
         0,
         0,
         0,
         0,
         0,
         0,
         0,
         1,
         0,
         1,
         0,
         0,
         1,
         1,
         0,
         1,
         1,
         0,
         0,
         0,
         0,
         0,
         0,
         1,
         1,
         0,
         0,
         0,
         0,
         1,
         0,
         0,
         0,
         1,
         0,
         0,
         0,
         0,
         0,
         1,
         0,
         1,
         0,
         0,
         1,
         0,
         1,
         0,
         1,
         0,
         0,
         0,
         1,
         0,
         1,
         0,
         0,
         1,
         1,
         0,
         0,
         0,
         0,
         0,
         1,
         1,
         0,
         0,
         1,
         1,
         0,
         0,
         0,
         1,
         0,
         0,
         1,
         0,
         0,
         0,
         0,
         0,
         1,
         0,
         0,
         1,
         0,
         0,
         0,
         1,
         0,
         1,
         0,
         1,
         0,
         1,
         1,
         0,
         0,
         0,
         0,
         0,
         1,
         0,
         1,
         0,
         0,
         0,
         0,
         1,
         0,
         0,
         1,
         0,
         0,
         0,
         1,
         1,
         0,
         0,
         1,
         1,
         1,
         1,
         0,
         0,
         1,
         0,
         0,
         0,
         0,
         0,
         0,
         0,
         1,
         1,
         0,
         0,
         1,
         0,
         0,
         0,
         0,
         0,
         0,
         0,
         1,
         1,
         1,
         1,
         1,
         0,
         0,
         0,
         0,
         1,
         1,
         1,
         0,
         0,
         1,
         0,
         1,
         1,
         1,
         1,
         1,
         0,
         1,
         1,
         1,
         0,
         0,
         0,
         0,
         0,
         0,
         0,
         0,
         1,
         1,
         0,
         0,
         0,
         0,
         0,
         0,
         0,
         0,
         0,
         0,
         0,
         1,
         1,
         0,
         0,
         1,
         0,
         1,
         0,
         0,
         1,
         1,
         1,
         0,
         0,
         1,
         0,
         1,
         0,
         1,
         0,
         0,
         0,
         1,
         0,
         0,
         1,
         0,
         1,
         1,
         0,
         1,
         0,
         1,
         0,
         0,
         0,
         0,
         0,
         0,
         0,
         1,
         0,
         1,
         1,
         1,
         0,
         0,
         1,
         1,
         0,
         0,
         1,
         1,
         0,
         1,
         0,
         0,
         0,
         0,
         0,
         1,
         0,
         0,
         0,
         1,
         0,
         1,
         0,
         1,
         1,
         1
        ]
       ],
       "probability_methods": [
        "auc",
        "root_mean_squared_error",
        "balanced_root_mean_squared_error",
        "mean_squared_error",
        "mean_absolute_error",
        "log_loss"
       ],
       "regression_methods": [
        "root_mean_squared_error",
        "mean_squared_error",
        "mean_absolute_error",
        "r2_score"
       ],
       "true_y": [
        1,
        0,
        0,
        1,
        0,
        0,
        0,
        1,
        0,
        0,
        0,
        1,
        0,
        0,
        0,
        0,
        1,
        0,
        1,
        0,
        0,
        0,
        1,
        0,
        0,
        1,
        0,
        0,
        1,
        0,
        1,
        0,
        0,
        0,
        1,
        0,
        0,
        1,
        0,
        0,
        0,
        0,
        0,
        1,
        1,
        1,
        0,
        0,
        0,
        0,
        0,
        0,
        0,
        0,
        0,
        0,
        0,
        0,
        0,
        0,
        0,
        1,
        1,
        0,
        0,
        0,
        0,
        1,
        0,
        0,
        0,
        0,
        0,
        1,
        0,
        0,
        0,
        0,
        1,
        1,
        0,
        0,
        0,
        0,
        1,
        1,
        0,
        1,
        1,
        0,
        0,
        1,
        1,
        0,
        1,
        0,
        0,
        0,
        1,
        0,
        1,
        0,
        0,
        0,
        0,
        0,
        0,
        1,
        0,
        1,
        0,
        0,
        0,
        0,
        0,
        0,
        0,
        0,
        0,
        0,
        1,
        0,
        1,
        0,
        0,
        0,
        1,
        0,
        1,
        0,
        1,
        0,
        1,
        1,
        0,
        1,
        0,
        0,
        0,
        0,
        0,
        0,
        0,
        0,
        0,
        0,
        1,
        0,
        0,
        1,
        0,
        0,
        0,
        0,
        1,
        0,
        0,
        1,
        1,
        1,
        1,
        0,
        0,
        1,
        0,
        0,
        1,
        0,
        0,
        1,
        0,
        0,
        0,
        1,
        1,
        0,
        0,
        0,
        0,
        0,
        0,
        0,
        0,
        1,
        1,
        1,
        1,
        0,
        0,
        1,
        0,
        0,
        0,
        1,
        0,
        0,
        0,
        0,
        1,
        1,
        0,
        0,
        0,
        1,
        0,
        0,
        1,
        0,
        0,
        0,
        0,
        0,
        0,
        0,
        1,
        0,
        1,
        1,
        1,
        0,
        1,
        0,
        0,
        0,
        0,
        0,
        0,
        0,
        0,
        0,
        1,
        0,
        0,
        1,
        0,
        1,
        0,
        0,
        0,
        1,
        1,
        0,
        0,
        0,
        0,
        0,
        0,
        1,
        0,
        0,
        0,
        0,
        0,
        0,
        1,
        0,
        1,
        1,
        0,
        0,
        0,
        1,
        0,
        0,
        0,
        0,
        0,
        0,
        0,
        1,
        0,
        0,
        1,
        1,
        1,
        0,
        1,
        1,
        0,
        1,
        1,
        1,
        0,
        0,
        1,
        0,
        0,
        0,
        1,
        1,
        0,
        0,
        0,
        0,
        0,
        0,
        0,
        1,
        0,
        0
       ]
      }
     }
    }
   }
  }
 },
 "nbformat": 4,
 "nbformat_minor": 4
}
